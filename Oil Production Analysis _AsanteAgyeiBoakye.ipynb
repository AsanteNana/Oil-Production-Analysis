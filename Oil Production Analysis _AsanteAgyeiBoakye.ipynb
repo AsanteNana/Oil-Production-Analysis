{
 "cells": [
  {
   "cell_type": "markdown",
   "id": "33a43d9a",
   "metadata": {},
   "source": [
    "# BRAZIL OIL PRODUCTION ANALYSIS"
   ]
  },
  {
   "cell_type": "markdown",
   "id": "1d0f1d37",
   "metadata": {},
   "source": [
    "## Content\n",
    "- [Introduction](#Introduction)\n",
    "- [Objectives](#Objectives)\n",
    "- [Tasks](#Tasks)\n",
    "- [Exploratory Data Analysis](#EDA)\n",
    "- [Analysis and Insights](#Analysis_and_Insights)\n",
    "    - [Descriptive Statistics](#Descriptive_Statistics)\n",
    "    - [Analysis By State](#Analysis_By_State)\n",
    "    - [Analysis By Basin](#Analysis_By_Basin)\n",
    "    - [Analysis By Operator](#Analysis_By_Operator)\n",
    "    - [Production Correlations](#Production_Correlations)\n",
    "- [Recommendations](#Recommendations)"
   ]
  },
  {
   "cell_type": "markdown",
   "id": "d7046e41",
   "metadata": {},
   "source": [
    "## Introduction\n",
    "This project analyzes the production of oil in Brazil in April 2016. The data provided offers an opportunity to develop insights into Brazil's Oil production patterns, and provide ANP with the information needed to report to the global energy bodies. The analyses focus on the production of petroleum, gases and water according to the various states, basins, and operators. "
   ]
  },
  {
   "cell_type": "markdown",
   "id": "e8a93ba2",
   "metadata": {},
   "source": [
    "## Objectives\n",
    "Generate a report for ANP and the Energy Commision to show the performances of the various operators, basins and states.\n",
    "Identify key values and insights to boost productivity."
   ]
  },
  {
   "cell_type": "markdown",
   "id": "aca95c47",
   "metadata": {},
   "source": [
    "## Tasks\n",
    "- Prepare the data for Analysis\n",
    "- Analyze data using python and generate a report\n",
    "- Interpret trends and identify key areas\n",
    "- Make recommendations or present findings"
   ]
  },
  {
   "cell_type": "markdown",
   "id": "221d0d23",
   "metadata": {},
   "source": [
    "## EDA"
   ]
  },
  {
   "cell_type": "code",
   "execution_count": 1,
   "id": "1144d466",
   "metadata": {},
   "outputs": [
    {
     "name": "stderr",
     "output_type": "stream",
     "text": [
      "Matplotlib is building the font cache; this may take a moment.\n"
     ]
    }
   ],
   "source": [
    "#Importing the necessary packages\n",
    "import pandas as pd\n",
    "import numpy as np\n",
    "import matplotlib.pyplot as plt\n",
    "import seaborn as sns\n",
    "import warnings\n",
    "warnings.filterwarnings('ignore')\n",
    "\n",
    "%matplotlib inline\n",
    "pd.set_option('display.max_colwidth',None)\n",
    "pd.set_option('display.max_columns',None)"
   ]
  },
  {
   "cell_type": "code",
   "execution_count": 2,
   "id": "12181334",
   "metadata": {},
   "outputs": [],
   "source": [
    "#Importing dataset\n",
    "data=pd.read_csv('Oil production ANP.csv', encoding = 'latin1')"
   ]
  },
  {
   "cell_type": "code",
   "execution_count": 3,
   "id": "470ef290",
   "metadata": {},
   "outputs": [
    {
     "data": {
      "text/html": [
       "<div>\n",
       "<style scoped>\n",
       "    .dataframe tbody tr th:only-of-type {\n",
       "        vertical-align: middle;\n",
       "    }\n",
       "\n",
       "    .dataframe tbody tr th {\n",
       "        vertical-align: top;\n",
       "    }\n",
       "\n",
       "    .dataframe thead th {\n",
       "        text-align: right;\n",
       "    }\n",
       "</style>\n",
       "<table border=\"1\" class=\"dataframe\">\n",
       "  <thead>\n",
       "    <tr style=\"text-align: right;\">\n",
       "      <th></th>\n",
       "      <th>state</th>\n",
       "      <th>basin</th>\n",
       "      <th>well_name_anp</th>\n",
       "      <th>well_name_operator</th>\n",
       "      <th>field</th>\n",
       "      <th>operator</th>\n",
       "      <th>contract_number</th>\n",
       "      <th>period</th>\n",
       "      <th>oil</th>\n",
       "      <th>condensate</th>\n",
       "      <th>petroleum</th>\n",
       "      <th>gas_associate</th>\n",
       "      <th>gas_non_associate</th>\n",
       "      <th>total_gas</th>\n",
       "      <th>volume_gas_royalties</th>\n",
       "      <th>water</th>\n",
       "      <th>installation_destination</th>\n",
       "      <th>installation_type</th>\n",
       "      <th>production_time</th>\n",
       "    </tr>\n",
       "  </thead>\n",
       "  <tbody>\n",
       "    <tr>\n",
       "      <th>0</th>\n",
       "      <td>Rio Grande do Norte</td>\n",
       "      <td>Potiguar</td>\n",
       "      <td>7UB  0007D RNS</td>\n",
       "      <td>7UB  0007D RNS</td>\n",
       "      <td>UBARANA</td>\n",
       "      <td>Petrobras</td>\n",
       "      <td>4.800000e+14</td>\n",
       "      <td>2016/04</td>\n",
       "      <td>2.0014</td>\n",
       "      <td>0.0</td>\n",
       "      <td>2.0014</td>\n",
       "      <td>0.2453</td>\n",
       "      <td>0.0000</td>\n",
       "      <td>0.2453</td>\n",
       "      <td>7.36006</td>\n",
       "      <td>0.0168</td>\n",
       "      <td>PLATAFORMA DE UBARANA 1</td>\n",
       "      <td>UEP</td>\n",
       "      <td>456</td>\n",
       "    </tr>\n",
       "    <tr>\n",
       "      <th>1</th>\n",
       "      <td>Sergipe</td>\n",
       "      <td>Sergipe</td>\n",
       "      <td>7GA  0007D SES</td>\n",
       "      <td>7GA  0007D SES</td>\n",
       "      <td>GUARICEMA</td>\n",
       "      <td>Petrobras</td>\n",
       "      <td>4.800000e+14</td>\n",
       "      <td>2016/04</td>\n",
       "      <td>96.9803</td>\n",
       "      <td>0.0</td>\n",
       "      <td>96.9803</td>\n",
       "      <td>16.2989</td>\n",
       "      <td>0.0000</td>\n",
       "      <td>16.2989</td>\n",
       "      <td>0.00000</td>\n",
       "      <td>0.5826</td>\n",
       "      <td>PLATAFORMA PGA-01 DE GUARICEMA</td>\n",
       "      <td>UEP</td>\n",
       "      <td>717</td>\n",
       "    </tr>\n",
       "    <tr>\n",
       "      <th>2</th>\n",
       "      <td>Sergipe</td>\n",
       "      <td>Sergipe</td>\n",
       "      <td>1SES 0019DASE</td>\n",
       "      <td>1SES 0019DASE</td>\n",
       "      <td>TATUI</td>\n",
       "      <td>Petrobras</td>\n",
       "      <td>4.800000e+14</td>\n",
       "      <td>2016/04</td>\n",
       "      <td>78.7815</td>\n",
       "      <td>0.0</td>\n",
       "      <td>78.7815</td>\n",
       "      <td>2.2412</td>\n",
       "      <td>0.0000</td>\n",
       "      <td>2.2412</td>\n",
       "      <td>66.85610</td>\n",
       "      <td>7.0341</td>\n",
       "      <td>Estação Prod. Atalaia (EPA)</td>\n",
       "      <td>INSTALACAO EMB/DESEMB</td>\n",
       "      <td>704</td>\n",
       "    </tr>\n",
       "    <tr>\n",
       "      <th>3</th>\n",
       "      <td>Sergipe</td>\n",
       "      <td>Sergipe</td>\n",
       "      <td>7CB  0010D SES</td>\n",
       "      <td>7CB  0010D SES</td>\n",
       "      <td>CAIOBA</td>\n",
       "      <td>Petrobras</td>\n",
       "      <td>4.800000e+14</td>\n",
       "      <td>2016/04</td>\n",
       "      <td>0.0000</td>\n",
       "      <td>0.0</td>\n",
       "      <td>0.0000</td>\n",
       "      <td>0.0000</td>\n",
       "      <td>14.8793</td>\n",
       "      <td>14.8793</td>\n",
       "      <td>445.10182</td>\n",
       "      <td>0.0000</td>\n",
       "      <td>PLATAFORMA PCB-01 DE CAIOBA</td>\n",
       "      <td>UEP</td>\n",
       "      <td>700</td>\n",
       "    </tr>\n",
       "    <tr>\n",
       "      <th>4</th>\n",
       "      <td>Sergipe</td>\n",
       "      <td>Sergipe</td>\n",
       "      <td>7GA  0025D SES</td>\n",
       "      <td>7GA  0025D SES</td>\n",
       "      <td>GUARICEMA</td>\n",
       "      <td>Petrobras</td>\n",
       "      <td>4.800000e+14</td>\n",
       "      <td>2016/04</td>\n",
       "      <td>477.1343</td>\n",
       "      <td>0.0</td>\n",
       "      <td>477.1343</td>\n",
       "      <td>63.8908</td>\n",
       "      <td>0.0000</td>\n",
       "      <td>63.8908</td>\n",
       "      <td>0.00000</td>\n",
       "      <td>0.8447</td>\n",
       "      <td>PLATAFORMA PGA-03 DE GUARICEMA</td>\n",
       "      <td>UEP</td>\n",
       "      <td>713</td>\n",
       "    </tr>\n",
       "  </tbody>\n",
       "</table>\n",
       "</div>"
      ],
      "text/plain": [
       "                 state     basin         well_name_anp    well_name_operator  \\\n",
       "0  Rio Grande do Norte  Potiguar  7UB  0007D RNS        7UB  0007D RNS         \n",
       "1              Sergipe   Sergipe  7GA  0007D SES        7GA  0007D SES         \n",
       "2              Sergipe   Sergipe  1SES 0019DASE         1SES 0019DASE          \n",
       "3              Sergipe   Sergipe  7CB  0010D SES        7CB  0010D SES         \n",
       "4              Sergipe   Sergipe  7GA  0025D SES        7GA  0025D SES         \n",
       "\n",
       "       field   operator  contract_number   period       oil  condensate  \\\n",
       "0    UBARANA  Petrobras     4.800000e+14  2016/04    2.0014         0.0   \n",
       "1  GUARICEMA  Petrobras     4.800000e+14  2016/04   96.9803         0.0   \n",
       "2      TATUI  Petrobras     4.800000e+14  2016/04   78.7815         0.0   \n",
       "3     CAIOBA  Petrobras     4.800000e+14  2016/04    0.0000         0.0   \n",
       "4  GUARICEMA  Petrobras     4.800000e+14  2016/04  477.1343         0.0   \n",
       "\n",
       "   petroleum  gas_associate  gas_non_associate  total_gas  \\\n",
       "0     2.0014         0.2453             0.0000     0.2453   \n",
       "1    96.9803        16.2989             0.0000    16.2989   \n",
       "2    78.7815         2.2412             0.0000     2.2412   \n",
       "3     0.0000         0.0000            14.8793    14.8793   \n",
       "4   477.1343        63.8908             0.0000    63.8908   \n",
       "\n",
       "   volume_gas_royalties   water        installation_destination  \\\n",
       "0               7.36006  0.0168         PLATAFORMA DE UBARANA 1   \n",
       "1               0.00000  0.5826  PLATAFORMA PGA-01 DE GUARICEMA   \n",
       "2              66.85610  7.0341     Estação Prod. Atalaia (EPA)   \n",
       "3             445.10182  0.0000     PLATAFORMA PCB-01 DE CAIOBA   \n",
       "4               0.00000  0.8447  PLATAFORMA PGA-03 DE GUARICEMA   \n",
       "\n",
       "       installation_type  production_time  \n",
       "0                    UEP              456  \n",
       "1                    UEP              717  \n",
       "2  INSTALACAO EMB/DESEMB              704  \n",
       "3                    UEP              700  \n",
       "4                    UEP              713  "
      ]
     },
     "execution_count": 3,
     "metadata": {},
     "output_type": "execute_result"
    }
   ],
   "source": [
    "#viewing first five rows of data\n",
    "data.head()"
   ]
  },
  {
   "cell_type": "code",
   "execution_count": 4,
   "id": "810c8bb8",
   "metadata": {},
   "outputs": [
    {
     "data": {
      "text/plain": [
       "(805, 19)"
      ]
     },
     "execution_count": 4,
     "metadata": {},
     "output_type": "execute_result"
    }
   ],
   "source": [
    "#Getting the number of columns and row\n",
    "data.shape"
   ]
  },
  {
   "cell_type": "code",
   "execution_count": 5,
   "id": "a3d6a9ff",
   "metadata": {},
   "outputs": [
    {
     "data": {
      "text/plain": [
       "state                       0\n",
       "basin                       0\n",
       "well_name_anp               0\n",
       "well_name_operator          0\n",
       "field                       0\n",
       "operator                    0\n",
       "contract_number             0\n",
       "period                      0\n",
       "oil                         0\n",
       "condensate                  0\n",
       "petroleum                   0\n",
       "gas_associate               0\n",
       "gas_non_associate           0\n",
       "total_gas                   0\n",
       "volume_gas_royalties        0\n",
       "water                       0\n",
       "installation_destination    0\n",
       "installation_type           0\n",
       "production_time             0\n",
       "dtype: int64"
      ]
     },
     "execution_count": 5,
     "metadata": {},
     "output_type": "execute_result"
    }
   ],
   "source": [
    "#checking for missing values\n",
    "data.isna().sum()"
   ]
  },
  {
   "cell_type": "code",
   "execution_count": 6,
   "id": "534f3973",
   "metadata": {
    "scrolled": true
   },
   "outputs": [
    {
     "name": "stdout",
     "output_type": "stream",
     "text": [
      "Empty DataFrame\n",
      "Columns: [state, basin, well_name_anp, well_name_operator, field, operator, contract_number, period, oil, condensate, petroleum, gas_associate, gas_non_associate, total_gas, volume_gas_royalties, water, installation_destination, installation_type, production_time]\n",
      "Index: []\n"
     ]
    }
   ],
   "source": [
    "#checking for duplicates\n",
    "duplicate_data = data.duplicated(keep =False)\n",
    "duplicated_data = data[duplicate_data].sort_values('well_name_anp')\n",
    "print(duplicated_data)"
   ]
  },
  {
   "cell_type": "code",
   "execution_count": 7,
   "id": "e5be6a33",
   "metadata": {
    "scrolled": true
   },
   "outputs": [
    {
     "data": {
      "text/html": [
       "<div>\n",
       "<style scoped>\n",
       "    .dataframe tbody tr th:only-of-type {\n",
       "        vertical-align: middle;\n",
       "    }\n",
       "\n",
       "    .dataframe tbody tr th {\n",
       "        vertical-align: top;\n",
       "    }\n",
       "\n",
       "    .dataframe thead th {\n",
       "        text-align: right;\n",
       "    }\n",
       "</style>\n",
       "<table border=\"1\" class=\"dataframe\">\n",
       "  <thead>\n",
       "    <tr style=\"text-align: right;\">\n",
       "      <th></th>\n",
       "      <th>state</th>\n",
       "      <th>basin</th>\n",
       "      <th>well_name_anp</th>\n",
       "      <th>well_name_operator</th>\n",
       "      <th>field</th>\n",
       "      <th>operator</th>\n",
       "      <th>contract_number</th>\n",
       "      <th>period</th>\n",
       "      <th>oil</th>\n",
       "      <th>condensate</th>\n",
       "      <th>petroleum</th>\n",
       "      <th>gas_associate</th>\n",
       "      <th>gas_non_associate</th>\n",
       "      <th>total_gas</th>\n",
       "      <th>volume_gas_royalties</th>\n",
       "      <th>water</th>\n",
       "      <th>installation_destination</th>\n",
       "      <th>installation_type</th>\n",
       "      <th>production_time</th>\n",
       "    </tr>\n",
       "  </thead>\n",
       "  <tbody>\n",
       "    <tr>\n",
       "      <th>95</th>\n",
       "      <td>Rio de Janeiro</td>\n",
       "      <td>Campos</td>\n",
       "      <td>7PM  0017D RJS</td>\n",
       "      <td>7PM  0017D RJS</td>\n",
       "      <td>TRILHA</td>\n",
       "      <td>Petrobras</td>\n",
       "      <td>4.800000e+14</td>\n",
       "      <td>2016/04</td>\n",
       "      <td>0.4317</td>\n",
       "      <td>0.0</td>\n",
       "      <td>0.4317</td>\n",
       "      <td>0.0057</td>\n",
       "      <td>0.0</td>\n",
       "      <td>0.0057</td>\n",
       "      <td>0.17190</td>\n",
       "      <td>0.4575</td>\n",
       "      <td>PLATAFORMA DE PAMPO-1</td>\n",
       "      <td>UEP</td>\n",
       "      <td>2</td>\n",
       "    </tr>\n",
       "    <tr>\n",
       "      <th>96</th>\n",
       "      <td>Rio de Janeiro</td>\n",
       "      <td>Campos</td>\n",
       "      <td>7PM  0017D RJS</td>\n",
       "      <td>7PM  0017D RJS</td>\n",
       "      <td>BADEJO</td>\n",
       "      <td>Petrobras</td>\n",
       "      <td>4.800000e+14</td>\n",
       "      <td>2016/04</td>\n",
       "      <td>17.9874</td>\n",
       "      <td>0.0</td>\n",
       "      <td>17.9874</td>\n",
       "      <td>0.2393</td>\n",
       "      <td>0.0</td>\n",
       "      <td>0.2393</td>\n",
       "      <td>7.16770</td>\n",
       "      <td>19.0655</td>\n",
       "      <td>PLATAFORMA DE PAMPO-1</td>\n",
       "      <td>UEP</td>\n",
       "      <td>71</td>\n",
       "    </tr>\n",
       "    <tr>\n",
       "      <th>97</th>\n",
       "      <td>Rio de Janeiro</td>\n",
       "      <td>Campos</td>\n",
       "      <td>7PM  0017D RJS</td>\n",
       "      <td>7PM  0017D RJS</td>\n",
       "      <td>PAMPO</td>\n",
       "      <td>Petrobras</td>\n",
       "      <td>4.800000e+14</td>\n",
       "      <td>2016/04</td>\n",
       "      <td>28.7798</td>\n",
       "      <td>0.0</td>\n",
       "      <td>28.7798</td>\n",
       "      <td>0.3829</td>\n",
       "      <td>0.0</td>\n",
       "      <td>0.3829</td>\n",
       "      <td>11.46843</td>\n",
       "      <td>30.5048</td>\n",
       "      <td>PLATAFORMA DE PAMPO-1</td>\n",
       "      <td>UEP</td>\n",
       "      <td>113</td>\n",
       "    </tr>\n",
       "    <tr>\n",
       "      <th>98</th>\n",
       "      <td>Rio de Janeiro</td>\n",
       "      <td>Campos</td>\n",
       "      <td>7PM  0017D RJS</td>\n",
       "      <td>7PM  0017D RJS</td>\n",
       "      <td>LINGUADO</td>\n",
       "      <td>Petrobras</td>\n",
       "      <td>4.800000e+14</td>\n",
       "      <td>2016/04</td>\n",
       "      <td>132.6748</td>\n",
       "      <td>0.0</td>\n",
       "      <td>132.6748</td>\n",
       "      <td>1.7651</td>\n",
       "      <td>0.0</td>\n",
       "      <td>1.7651</td>\n",
       "      <td>0.00000</td>\n",
       "      <td>140.6271</td>\n",
       "      <td>PLATAFORMA DE PAMPO-1</td>\n",
       "      <td>UEP</td>\n",
       "      <td>522</td>\n",
       "    </tr>\n",
       "    <tr>\n",
       "      <th>103</th>\n",
       "      <td>Rio de Janeiro</td>\n",
       "      <td>Campos</td>\n",
       "      <td>7PM  0021D RJS</td>\n",
       "      <td>7PM  0021D RJS</td>\n",
       "      <td>PAMPO</td>\n",
       "      <td>Petrobras</td>\n",
       "      <td>4.800000e+14</td>\n",
       "      <td>2016/04</td>\n",
       "      <td>158.5539</td>\n",
       "      <td>0.0</td>\n",
       "      <td>158.5539</td>\n",
       "      <td>1.4475</td>\n",
       "      <td>0.0</td>\n",
       "      <td>1.4475</td>\n",
       "      <td>43.35802</td>\n",
       "      <td>1614.1463</td>\n",
       "      <td>PLATAFORMA DE PAMPO-1</td>\n",
       "      <td>UEP</td>\n",
       "      <td>613</td>\n",
       "    </tr>\n",
       "    <tr>\n",
       "      <th>104</th>\n",
       "      <td>Rio de Janeiro</td>\n",
       "      <td>Campos</td>\n",
       "      <td>7PM  0021D RJS</td>\n",
       "      <td>7PM  0021D RJS</td>\n",
       "      <td>LINGUADO</td>\n",
       "      <td>Petrobras</td>\n",
       "      <td>4.800000e+14</td>\n",
       "      <td>2016/04</td>\n",
       "      <td>1.4722</td>\n",
       "      <td>0.0</td>\n",
       "      <td>1.4722</td>\n",
       "      <td>0.0134</td>\n",
       "      <td>0.0</td>\n",
       "      <td>0.0134</td>\n",
       "      <td>0.00000</td>\n",
       "      <td>14.9880</td>\n",
       "      <td>PLATAFORMA DE PAMPO-1</td>\n",
       "      <td>UEP</td>\n",
       "      <td>6</td>\n",
       "    </tr>\n",
       "    <tr>\n",
       "      <th>256</th>\n",
       "      <td>Rio de Janeiro</td>\n",
       "      <td>Campos</td>\n",
       "      <td>7PM39HRJS</td>\n",
       "      <td>7PM39HRJS</td>\n",
       "      <td>PAMPO</td>\n",
       "      <td>Petrobras</td>\n",
       "      <td>4.800000e+14</td>\n",
       "      <td>2016/04</td>\n",
       "      <td>293.9186</td>\n",
       "      <td>0.0</td>\n",
       "      <td>293.9186</td>\n",
       "      <td>2.7309</td>\n",
       "      <td>0.0</td>\n",
       "      <td>2.7309</td>\n",
       "      <td>81.80090</td>\n",
       "      <td>3109.9823</td>\n",
       "      <td>PLATAFORMA DE PAMPO-1</td>\n",
       "      <td>UEP</td>\n",
       "      <td>565</td>\n",
       "    </tr>\n",
       "    <tr>\n",
       "      <th>257</th>\n",
       "      <td>Rio de Janeiro</td>\n",
       "      <td>Campos</td>\n",
       "      <td>7PM39HRJS</td>\n",
       "      <td>7PM39HRJS</td>\n",
       "      <td>LINGUADO</td>\n",
       "      <td>Petrobras</td>\n",
       "      <td>4.800000e+14</td>\n",
       "      <td>2016/04</td>\n",
       "      <td>2.7291</td>\n",
       "      <td>0.0</td>\n",
       "      <td>2.7291</td>\n",
       "      <td>0.0254</td>\n",
       "      <td>0.0</td>\n",
       "      <td>0.0254</td>\n",
       "      <td>0.00000</td>\n",
       "      <td>28.8775</td>\n",
       "      <td>PLATAFORMA DE PAMPO-1</td>\n",
       "      <td>UEP</td>\n",
       "      <td>5</td>\n",
       "    </tr>\n",
       "    <tr>\n",
       "      <th>261</th>\n",
       "      <td>Rio de Janeiro</td>\n",
       "      <td>Campos</td>\n",
       "      <td>7PM  0038D RJS</td>\n",
       "      <td>7PM  0038D RJS</td>\n",
       "      <td>PAMPO</td>\n",
       "      <td>Petrobras</td>\n",
       "      <td>4.800000e+14</td>\n",
       "      <td>2016/04</td>\n",
       "      <td>257.8120</td>\n",
       "      <td>0.0</td>\n",
       "      <td>257.8120</td>\n",
       "      <td>2.2655</td>\n",
       "      <td>0.0</td>\n",
       "      <td>2.2655</td>\n",
       "      <td>67.85881</td>\n",
       "      <td>480.8568</td>\n",
       "      <td>PLATAFORMA DE PAMPO-1</td>\n",
       "      <td>UEP</td>\n",
       "      <td>328</td>\n",
       "    </tr>\n",
       "    <tr>\n",
       "      <th>262</th>\n",
       "      <td>Rio de Janeiro</td>\n",
       "      <td>Campos</td>\n",
       "      <td>7PM  0038D RJS</td>\n",
       "      <td>7PM  0038D RJS</td>\n",
       "      <td>LINGUADO</td>\n",
       "      <td>Petrobras</td>\n",
       "      <td>4.800000e+14</td>\n",
       "      <td>2016/04</td>\n",
       "      <td>2.3939</td>\n",
       "      <td>0.0</td>\n",
       "      <td>2.3939</td>\n",
       "      <td>0.0210</td>\n",
       "      <td>0.0</td>\n",
       "      <td>0.0210</td>\n",
       "      <td>0.00000</td>\n",
       "      <td>4.4649</td>\n",
       "      <td>PLATAFORMA DE PAMPO-1</td>\n",
       "      <td>UEP</td>\n",
       "      <td>3</td>\n",
       "    </tr>\n",
       "    <tr>\n",
       "      <th>317</th>\n",
       "      <td>Rio de Janeiro</td>\n",
       "      <td>Campos</td>\n",
       "      <td>7PM41HPRJS</td>\n",
       "      <td>7PM41HPRJS</td>\n",
       "      <td>PAMPO</td>\n",
       "      <td>Petrobras</td>\n",
       "      <td>4.800000e+14</td>\n",
       "      <td>2016/04</td>\n",
       "      <td>534.1444</td>\n",
       "      <td>0.0</td>\n",
       "      <td>534.1444</td>\n",
       "      <td>2.9036</td>\n",
       "      <td>0.0</td>\n",
       "      <td>2.9036</td>\n",
       "      <td>86.97260</td>\n",
       "      <td>5048.7527</td>\n",
       "      <td>PLATAFORMA DE PAMPO-1</td>\n",
       "      <td>UEP</td>\n",
       "      <td>637</td>\n",
       "    </tr>\n",
       "    <tr>\n",
       "      <th>318</th>\n",
       "      <td>Rio de Janeiro</td>\n",
       "      <td>Campos</td>\n",
       "      <td>7PM41HPRJS</td>\n",
       "      <td>7PM41HPRJS</td>\n",
       "      <td>LINGUADO</td>\n",
       "      <td>Petrobras</td>\n",
       "      <td>4.800000e+14</td>\n",
       "      <td>2016/04</td>\n",
       "      <td>4.9597</td>\n",
       "      <td>0.0</td>\n",
       "      <td>4.9597</td>\n",
       "      <td>0.0270</td>\n",
       "      <td>0.0</td>\n",
       "      <td>0.0270</td>\n",
       "      <td>0.00000</td>\n",
       "      <td>46.8798</td>\n",
       "      <td>PLATAFORMA DE PAMPO-1</td>\n",
       "      <td>UEP</td>\n",
       "      <td>6</td>\n",
       "    </tr>\n",
       "    <tr>\n",
       "      <th>355</th>\n",
       "      <td>Rio de Janeiro</td>\n",
       "      <td>Campos</td>\n",
       "      <td>7ABL71HPRJS</td>\n",
       "      <td>7ABL71HPRJS</td>\n",
       "      <td>ALBACORA LESTE</td>\n",
       "      <td>Petrobras</td>\n",
       "      <td>4.800000e+14</td>\n",
       "      <td>2016/04</td>\n",
       "      <td>3096.8478</td>\n",
       "      <td>0.0</td>\n",
       "      <td>3096.8478</td>\n",
       "      <td>64.9081</td>\n",
       "      <td>0.0</td>\n",
       "      <td>64.9081</td>\n",
       "      <td>1943.18240</td>\n",
       "      <td>12265.4192</td>\n",
       "      <td>PETROBRAS 50</td>\n",
       "      <td>UEP</td>\n",
       "      <td>517</td>\n",
       "    </tr>\n",
       "    <tr>\n",
       "      <th>356</th>\n",
       "      <td>Rio de Janeiro</td>\n",
       "      <td>Campos</td>\n",
       "      <td>7ABL71HPRJS</td>\n",
       "      <td>7ABL71HPRJS</td>\n",
       "      <td>ALBACORA</td>\n",
       "      <td>Petrobras</td>\n",
       "      <td>4.800000e+14</td>\n",
       "      <td>2016/04</td>\n",
       "      <td>774.2120</td>\n",
       "      <td>0.0</td>\n",
       "      <td>774.2120</td>\n",
       "      <td>16.2270</td>\n",
       "      <td>0.0</td>\n",
       "      <td>16.2270</td>\n",
       "      <td>486.43143</td>\n",
       "      <td>3066.3548</td>\n",
       "      <td>PETROBRAS 50</td>\n",
       "      <td>UEP</td>\n",
       "      <td>144</td>\n",
       "    </tr>\n",
       "    <tr>\n",
       "      <th>392</th>\n",
       "      <td>Rio de Janeiro</td>\n",
       "      <td>Campos</td>\n",
       "      <td>7PM50HPRJS</td>\n",
       "      <td>7PM50HPRJS</td>\n",
       "      <td>PAMPO</td>\n",
       "      <td>Petrobras</td>\n",
       "      <td>4.800000e+14</td>\n",
       "      <td>2016/04</td>\n",
       "      <td>239.8095</td>\n",
       "      <td>0.0</td>\n",
       "      <td>239.8095</td>\n",
       "      <td>2.1816</td>\n",
       "      <td>0.0</td>\n",
       "      <td>2.1816</td>\n",
       "      <td>65.34691</td>\n",
       "      <td>3050.3117</td>\n",
       "      <td>PLATAFORMA DE PAMPO-1</td>\n",
       "      <td>UEP</td>\n",
       "      <td>613</td>\n",
       "    </tr>\n",
       "    <tr>\n",
       "      <th>393</th>\n",
       "      <td>Rio de Janeiro</td>\n",
       "      <td>Campos</td>\n",
       "      <td>7PM50HPRJS</td>\n",
       "      <td>7PM50HPRJS</td>\n",
       "      <td>LINGUADO</td>\n",
       "      <td>Petrobras</td>\n",
       "      <td>4.800000e+14</td>\n",
       "      <td>2016/04</td>\n",
       "      <td>2.2267</td>\n",
       "      <td>0.0</td>\n",
       "      <td>2.2267</td>\n",
       "      <td>0.0203</td>\n",
       "      <td>0.0</td>\n",
       "      <td>0.0203</td>\n",
       "      <td>0.00000</td>\n",
       "      <td>28.3234</td>\n",
       "      <td>PLATAFORMA DE PAMPO-1</td>\n",
       "      <td>UEP</td>\n",
       "      <td>6</td>\n",
       "    </tr>\n",
       "    <tr>\n",
       "      <th>440</th>\n",
       "      <td>Rio de Janeiro</td>\n",
       "      <td>Campos</td>\n",
       "      <td>6BRSA770DRJS</td>\n",
       "      <td>6MRL199DRJS</td>\n",
       "      <td>MARLIM</td>\n",
       "      <td>Petrobras</td>\n",
       "      <td>4.800000e+14</td>\n",
       "      <td>2016/04</td>\n",
       "      <td>2553.1378</td>\n",
       "      <td>0.0</td>\n",
       "      <td>2553.1378</td>\n",
       "      <td>61.5863</td>\n",
       "      <td>0.0</td>\n",
       "      <td>61.5863</td>\n",
       "      <td>1842.27042</td>\n",
       "      <td>4.7342</td>\n",
       "      <td>PETROBRAS 20</td>\n",
       "      <td>UEP</td>\n",
       "      <td>299</td>\n",
       "    </tr>\n",
       "    <tr>\n",
       "      <th>441</th>\n",
       "      <td>Rio de Janeiro</td>\n",
       "      <td>Campos</td>\n",
       "      <td>6BRSA770DRJS</td>\n",
       "      <td>6MRL199DRJS</td>\n",
       "      <td>VOADOR</td>\n",
       "      <td>Petrobras</td>\n",
       "      <td>4.800000e+14</td>\n",
       "      <td>2016/04</td>\n",
       "      <td>3120.5017</td>\n",
       "      <td>0.0</td>\n",
       "      <td>3120.5017</td>\n",
       "      <td>75.2722</td>\n",
       "      <td>0.0</td>\n",
       "      <td>75.2722</td>\n",
       "      <td>2252.81497</td>\n",
       "      <td>5.7862</td>\n",
       "      <td>PETROBRAS 20</td>\n",
       "      <td>UEP</td>\n",
       "      <td>365</td>\n",
       "    </tr>\n",
       "    <tr>\n",
       "      <th>564</th>\n",
       "      <td>Rio de Janeiro</td>\n",
       "      <td>Campos</td>\n",
       "      <td>6BRSA806RJS</td>\n",
       "      <td>6CRT43RJS</td>\n",
       "      <td>CARATINGA</td>\n",
       "      <td>Petrobras</td>\n",
       "      <td>4.800000e+14</td>\n",
       "      <td>2016/04</td>\n",
       "      <td>4171.0003</td>\n",
       "      <td>0.0</td>\n",
       "      <td>4171.0003</td>\n",
       "      <td>69.4004</td>\n",
       "      <td>0.0</td>\n",
       "      <td>69.4004</td>\n",
       "      <td>2077.46427</td>\n",
       "      <td>4591.6006</td>\n",
       "      <td>PETROBRAS 48</td>\n",
       "      <td>UEP</td>\n",
       "      <td>310</td>\n",
       "    </tr>\n",
       "    <tr>\n",
       "      <th>565</th>\n",
       "      <td>Rio de Janeiro</td>\n",
       "      <td>Campos</td>\n",
       "      <td>6BRSA806RJS</td>\n",
       "      <td>6CRT43RJS</td>\n",
       "      <td>BARRACUDA</td>\n",
       "      <td>Petrobras</td>\n",
       "      <td>4.800000e+14</td>\n",
       "      <td>2016/04</td>\n",
       "      <td>266.2341</td>\n",
       "      <td>0.0</td>\n",
       "      <td>266.2341</td>\n",
       "      <td>4.4298</td>\n",
       "      <td>0.0</td>\n",
       "      <td>4.4298</td>\n",
       "      <td>132.47826</td>\n",
       "      <td>293.0809</td>\n",
       "      <td>PETROBRAS 48</td>\n",
       "      <td>UEP</td>\n",
       "      <td>20</td>\n",
       "    </tr>\n",
       "    <tr>\n",
       "      <th>603</th>\n",
       "      <td>Rio de Janeiro</td>\n",
       "      <td>Campos</td>\n",
       "      <td>7CRT49RJS</td>\n",
       "      <td>7CRT49RJS</td>\n",
       "      <td>CARATINGA</td>\n",
       "      <td>Petrobras</td>\n",
       "      <td>4.800000e+14</td>\n",
       "      <td>2016/04</td>\n",
       "      <td>2314.1470</td>\n",
       "      <td>0.0</td>\n",
       "      <td>2314.1470</td>\n",
       "      <td>44.1721</td>\n",
       "      <td>0.0</td>\n",
       "      <td>44.1721</td>\n",
       "      <td>1322.26699</td>\n",
       "      <td>1064.1663</td>\n",
       "      <td>PETROBRAS 48</td>\n",
       "      <td>UEP</td>\n",
       "      <td>304</td>\n",
       "    </tr>\n",
       "    <tr>\n",
       "      <th>604</th>\n",
       "      <td>Rio de Janeiro</td>\n",
       "      <td>Campos</td>\n",
       "      <td>7CRT49RJS</td>\n",
       "      <td>7CRT49RJS</td>\n",
       "      <td>BARRACUDA</td>\n",
       "      <td>Petrobras</td>\n",
       "      <td>4.800000e+14</td>\n",
       "      <td>2016/04</td>\n",
       "      <td>147.7115</td>\n",
       "      <td>0.0</td>\n",
       "      <td>147.7115</td>\n",
       "      <td>2.8195</td>\n",
       "      <td>0.0</td>\n",
       "      <td>2.8195</td>\n",
       "      <td>84.31989</td>\n",
       "      <td>67.9255</td>\n",
       "      <td>PETROBRAS 48</td>\n",
       "      <td>UEP</td>\n",
       "      <td>19</td>\n",
       "    </tr>\n",
       "    <tr>\n",
       "      <th>655</th>\n",
       "      <td>Rio de Janeiro</td>\n",
       "      <td>Campos</td>\n",
       "      <td>3RJS 0159  RJ</td>\n",
       "      <td>3RJS 0159  RJ</td>\n",
       "      <td>TRILHA</td>\n",
       "      <td>Petrobras</td>\n",
       "      <td>4.800000e+14</td>\n",
       "      <td>2016/04</td>\n",
       "      <td>0.8833</td>\n",
       "      <td>0.0</td>\n",
       "      <td>0.8833</td>\n",
       "      <td>0.0180</td>\n",
       "      <td>0.0</td>\n",
       "      <td>0.0180</td>\n",
       "      <td>0.54031</td>\n",
       "      <td>0.4016</td>\n",
       "      <td>PLATAFORMA DE PAMPO-1</td>\n",
       "      <td>UEP</td>\n",
       "      <td>2</td>\n",
       "    </tr>\n",
       "    <tr>\n",
       "      <th>656</th>\n",
       "      <td>Rio de Janeiro</td>\n",
       "      <td>Campos</td>\n",
       "      <td>3RJS 0159  RJ</td>\n",
       "      <td>3RJS 0159  RJ</td>\n",
       "      <td>BADEJO</td>\n",
       "      <td>Petrobras</td>\n",
       "      <td>4.800000e+14</td>\n",
       "      <td>2016/04</td>\n",
       "      <td>36.8051</td>\n",
       "      <td>0.0</td>\n",
       "      <td>36.8051</td>\n",
       "      <td>0.7518</td>\n",
       "      <td>0.0</td>\n",
       "      <td>0.7518</td>\n",
       "      <td>22.51976</td>\n",
       "      <td>16.7340</td>\n",
       "      <td>PLATAFORMA DE PAMPO-1</td>\n",
       "      <td>UEP</td>\n",
       "      <td>71</td>\n",
       "    </tr>\n",
       "    <tr>\n",
       "      <th>657</th>\n",
       "      <td>Rio de Janeiro</td>\n",
       "      <td>Campos</td>\n",
       "      <td>3RJS 0159  RJ</td>\n",
       "      <td>3RJS 0159  RJ</td>\n",
       "      <td>PAMPO</td>\n",
       "      <td>Petrobras</td>\n",
       "      <td>4.800000e+14</td>\n",
       "      <td>2016/04</td>\n",
       "      <td>58.8881</td>\n",
       "      <td>0.0</td>\n",
       "      <td>58.8881</td>\n",
       "      <td>1.2029</td>\n",
       "      <td>0.0</td>\n",
       "      <td>1.2029</td>\n",
       "      <td>36.03168</td>\n",
       "      <td>26.7744</td>\n",
       "      <td>PLATAFORMA DE PAMPO-1</td>\n",
       "      <td>UEP</td>\n",
       "      <td>114</td>\n",
       "    </tr>\n",
       "    <tr>\n",
       "      <th>658</th>\n",
       "      <td>Rio de Janeiro</td>\n",
       "      <td>Campos</td>\n",
       "      <td>3RJS 0159  RJ</td>\n",
       "      <td>3RJS 0159  RJ</td>\n",
       "      <td>LINGUADO</td>\n",
       "      <td>Petrobras</td>\n",
       "      <td>4.800000e+14</td>\n",
       "      <td>2016/04</td>\n",
       "      <td>271.4742</td>\n",
       "      <td>0.0</td>\n",
       "      <td>271.4742</td>\n",
       "      <td>5.5455</td>\n",
       "      <td>0.0</td>\n",
       "      <td>5.5455</td>\n",
       "      <td>0.00000</td>\n",
       "      <td>123.4299</td>\n",
       "      <td>PLATAFORMA DE PAMPO-1</td>\n",
       "      <td>UEP</td>\n",
       "      <td>527</td>\n",
       "    </tr>\n",
       "    <tr>\n",
       "      <th>674</th>\n",
       "      <td>Rio de Janeiro</td>\n",
       "      <td>Campos</td>\n",
       "      <td>7BR69DARJS</td>\n",
       "      <td>7BR69DARJS</td>\n",
       "      <td>CARATINGA</td>\n",
       "      <td>Petrobras</td>\n",
       "      <td>4.800000e+14</td>\n",
       "      <td>2016/04</td>\n",
       "      <td>6310.6421</td>\n",
       "      <td>0.0</td>\n",
       "      <td>6310.6421</td>\n",
       "      <td>108.8660</td>\n",
       "      <td>0.0</td>\n",
       "      <td>108.8660</td>\n",
       "      <td>3258.84421</td>\n",
       "      <td>3398.0308</td>\n",
       "      <td>PETROBRAS 43</td>\n",
       "      <td>UEP</td>\n",
       "      <td>661</td>\n",
       "    </tr>\n",
       "    <tr>\n",
       "      <th>675</th>\n",
       "      <td>Rio de Janeiro</td>\n",
       "      <td>Campos</td>\n",
       "      <td>7BR69DARJS</td>\n",
       "      <td>7BR69DARJS</td>\n",
       "      <td>BARRACUDA</td>\n",
       "      <td>Petrobras</td>\n",
       "      <td>4.800000e+14</td>\n",
       "      <td>2016/04</td>\n",
       "      <td>402.8069</td>\n",
       "      <td>0.0</td>\n",
       "      <td>402.8069</td>\n",
       "      <td>6.9489</td>\n",
       "      <td>0.0</td>\n",
       "      <td>6.9489</td>\n",
       "      <td>207.81391</td>\n",
       "      <td>216.8956</td>\n",
       "      <td>PETROBRAS 43</td>\n",
       "      <td>UEP</td>\n",
       "      <td>42</td>\n",
       "    </tr>\n",
       "    <tr>\n",
       "      <th>772</th>\n",
       "      <td>Rio de Janeiro</td>\n",
       "      <td>Campos</td>\n",
       "      <td>4BRSA301DPRJS</td>\n",
       "      <td>4BG16DPRJS</td>\n",
       "      <td>CHERNE</td>\n",
       "      <td>Petrobras</td>\n",
       "      <td>4.800000e+14</td>\n",
       "      <td>2016/04</td>\n",
       "      <td>28.3303</td>\n",
       "      <td>0.0</td>\n",
       "      <td>28.3303</td>\n",
       "      <td>0.3543</td>\n",
       "      <td>0.0</td>\n",
       "      <td>0.3543</td>\n",
       "      <td>10.49835</td>\n",
       "      <td>9.9799</td>\n",
       "      <td>PLATAFORMA DE CHERNE-1</td>\n",
       "      <td>UEP</td>\n",
       "      <td>69</td>\n",
       "    </tr>\n",
       "    <tr>\n",
       "      <th>773</th>\n",
       "      <td>Rio de Janeiro</td>\n",
       "      <td>Campos</td>\n",
       "      <td>4BRSA301DPRJS</td>\n",
       "      <td>4BG16DPRJS</td>\n",
       "      <td>BAGRE</td>\n",
       "      <td>Petrobras</td>\n",
       "      <td>4.800000e+14</td>\n",
       "      <td>2016/04</td>\n",
       "      <td>40.2495</td>\n",
       "      <td>0.0</td>\n",
       "      <td>40.2495</td>\n",
       "      <td>0.5034</td>\n",
       "      <td>0.0</td>\n",
       "      <td>0.5034</td>\n",
       "      <td>14.96446</td>\n",
       "      <td>14.1786</td>\n",
       "      <td>PLATAFORMA DE CHERNE-1</td>\n",
       "      <td>UEP</td>\n",
       "      <td>99</td>\n",
       "    </tr>\n",
       "  </tbody>\n",
       "</table>\n",
       "</div>"
      ],
      "text/plain": [
       "              state   basin         well_name_anp    well_name_operator  \\\n",
       "95   Rio de Janeiro  Campos  7PM  0017D RJS        7PM  0017D RJS         \n",
       "96   Rio de Janeiro  Campos  7PM  0017D RJS        7PM  0017D RJS         \n",
       "97   Rio de Janeiro  Campos  7PM  0017D RJS        7PM  0017D RJS         \n",
       "98   Rio de Janeiro  Campos  7PM  0017D RJS        7PM  0017D RJS         \n",
       "103  Rio de Janeiro  Campos  7PM  0021D RJS        7PM  0021D RJS         \n",
       "104  Rio de Janeiro  Campos  7PM  0021D RJS        7PM  0021D RJS         \n",
       "256  Rio de Janeiro  Campos  7PM39HRJS             7PM39HRJS              \n",
       "257  Rio de Janeiro  Campos  7PM39HRJS             7PM39HRJS              \n",
       "261  Rio de Janeiro  Campos  7PM  0038D RJS        7PM  0038D RJS         \n",
       "262  Rio de Janeiro  Campos  7PM  0038D RJS        7PM  0038D RJS         \n",
       "317  Rio de Janeiro  Campos  7PM41HPRJS            7PM41HPRJS             \n",
       "318  Rio de Janeiro  Campos  7PM41HPRJS            7PM41HPRJS             \n",
       "355  Rio de Janeiro  Campos  7ABL71HPRJS           7ABL71HPRJS            \n",
       "356  Rio de Janeiro  Campos  7ABL71HPRJS           7ABL71HPRJS            \n",
       "392  Rio de Janeiro  Campos  7PM50HPRJS            7PM50HPRJS             \n",
       "393  Rio de Janeiro  Campos  7PM50HPRJS            7PM50HPRJS             \n",
       "440  Rio de Janeiro  Campos  6BRSA770DRJS          6MRL199DRJS            \n",
       "441  Rio de Janeiro  Campos  6BRSA770DRJS          6MRL199DRJS            \n",
       "564  Rio de Janeiro  Campos  6BRSA806RJS           6CRT43RJS              \n",
       "565  Rio de Janeiro  Campos  6BRSA806RJS           6CRT43RJS              \n",
       "603  Rio de Janeiro  Campos  7CRT49RJS             7CRT49RJS              \n",
       "604  Rio de Janeiro  Campos  7CRT49RJS             7CRT49RJS              \n",
       "655  Rio de Janeiro  Campos  3RJS 0159  RJ         3RJS 0159  RJ          \n",
       "656  Rio de Janeiro  Campos  3RJS 0159  RJ         3RJS 0159  RJ          \n",
       "657  Rio de Janeiro  Campos  3RJS 0159  RJ         3RJS 0159  RJ          \n",
       "658  Rio de Janeiro  Campos  3RJS 0159  RJ         3RJS 0159  RJ          \n",
       "674  Rio de Janeiro  Campos  7BR69DARJS            7BR69DARJS             \n",
       "675  Rio de Janeiro  Campos  7BR69DARJS            7BR69DARJS             \n",
       "772  Rio de Janeiro  Campos  4BRSA301DPRJS         4BG16DPRJS             \n",
       "773  Rio de Janeiro  Campos  4BRSA301DPRJS         4BG16DPRJS             \n",
       "\n",
       "              field   operator  contract_number   period        oil  \\\n",
       "95           TRILHA  Petrobras     4.800000e+14  2016/04     0.4317   \n",
       "96           BADEJO  Petrobras     4.800000e+14  2016/04    17.9874   \n",
       "97            PAMPO  Petrobras     4.800000e+14  2016/04    28.7798   \n",
       "98         LINGUADO  Petrobras     4.800000e+14  2016/04   132.6748   \n",
       "103           PAMPO  Petrobras     4.800000e+14  2016/04   158.5539   \n",
       "104        LINGUADO  Petrobras     4.800000e+14  2016/04     1.4722   \n",
       "256           PAMPO  Petrobras     4.800000e+14  2016/04   293.9186   \n",
       "257        LINGUADO  Petrobras     4.800000e+14  2016/04     2.7291   \n",
       "261           PAMPO  Petrobras     4.800000e+14  2016/04   257.8120   \n",
       "262        LINGUADO  Petrobras     4.800000e+14  2016/04     2.3939   \n",
       "317           PAMPO  Petrobras     4.800000e+14  2016/04   534.1444   \n",
       "318        LINGUADO  Petrobras     4.800000e+14  2016/04     4.9597   \n",
       "355  ALBACORA LESTE  Petrobras     4.800000e+14  2016/04  3096.8478   \n",
       "356        ALBACORA  Petrobras     4.800000e+14  2016/04   774.2120   \n",
       "392           PAMPO  Petrobras     4.800000e+14  2016/04   239.8095   \n",
       "393        LINGUADO  Petrobras     4.800000e+14  2016/04     2.2267   \n",
       "440          MARLIM  Petrobras     4.800000e+14  2016/04  2553.1378   \n",
       "441          VOADOR  Petrobras     4.800000e+14  2016/04  3120.5017   \n",
       "564       CARATINGA  Petrobras     4.800000e+14  2016/04  4171.0003   \n",
       "565       BARRACUDA  Petrobras     4.800000e+14  2016/04   266.2341   \n",
       "603       CARATINGA  Petrobras     4.800000e+14  2016/04  2314.1470   \n",
       "604       BARRACUDA  Petrobras     4.800000e+14  2016/04   147.7115   \n",
       "655          TRILHA  Petrobras     4.800000e+14  2016/04     0.8833   \n",
       "656          BADEJO  Petrobras     4.800000e+14  2016/04    36.8051   \n",
       "657           PAMPO  Petrobras     4.800000e+14  2016/04    58.8881   \n",
       "658        LINGUADO  Petrobras     4.800000e+14  2016/04   271.4742   \n",
       "674       CARATINGA  Petrobras     4.800000e+14  2016/04  6310.6421   \n",
       "675       BARRACUDA  Petrobras     4.800000e+14  2016/04   402.8069   \n",
       "772          CHERNE  Petrobras     4.800000e+14  2016/04    28.3303   \n",
       "773           BAGRE  Petrobras     4.800000e+14  2016/04    40.2495   \n",
       "\n",
       "     condensate  petroleum  gas_associate  gas_non_associate  total_gas  \\\n",
       "95          0.0     0.4317         0.0057                0.0     0.0057   \n",
       "96          0.0    17.9874         0.2393                0.0     0.2393   \n",
       "97          0.0    28.7798         0.3829                0.0     0.3829   \n",
       "98          0.0   132.6748         1.7651                0.0     1.7651   \n",
       "103         0.0   158.5539         1.4475                0.0     1.4475   \n",
       "104         0.0     1.4722         0.0134                0.0     0.0134   \n",
       "256         0.0   293.9186         2.7309                0.0     2.7309   \n",
       "257         0.0     2.7291         0.0254                0.0     0.0254   \n",
       "261         0.0   257.8120         2.2655                0.0     2.2655   \n",
       "262         0.0     2.3939         0.0210                0.0     0.0210   \n",
       "317         0.0   534.1444         2.9036                0.0     2.9036   \n",
       "318         0.0     4.9597         0.0270                0.0     0.0270   \n",
       "355         0.0  3096.8478        64.9081                0.0    64.9081   \n",
       "356         0.0   774.2120        16.2270                0.0    16.2270   \n",
       "392         0.0   239.8095         2.1816                0.0     2.1816   \n",
       "393         0.0     2.2267         0.0203                0.0     0.0203   \n",
       "440         0.0  2553.1378        61.5863                0.0    61.5863   \n",
       "441         0.0  3120.5017        75.2722                0.0    75.2722   \n",
       "564         0.0  4171.0003        69.4004                0.0    69.4004   \n",
       "565         0.0   266.2341         4.4298                0.0     4.4298   \n",
       "603         0.0  2314.1470        44.1721                0.0    44.1721   \n",
       "604         0.0   147.7115         2.8195                0.0     2.8195   \n",
       "655         0.0     0.8833         0.0180                0.0     0.0180   \n",
       "656         0.0    36.8051         0.7518                0.0     0.7518   \n",
       "657         0.0    58.8881         1.2029                0.0     1.2029   \n",
       "658         0.0   271.4742         5.5455                0.0     5.5455   \n",
       "674         0.0  6310.6421       108.8660                0.0   108.8660   \n",
       "675         0.0   402.8069         6.9489                0.0     6.9489   \n",
       "772         0.0    28.3303         0.3543                0.0     0.3543   \n",
       "773         0.0    40.2495         0.5034                0.0     0.5034   \n",
       "\n",
       "     volume_gas_royalties       water installation_destination  \\\n",
       "95                0.17190      0.4575    PLATAFORMA DE PAMPO-1   \n",
       "96                7.16770     19.0655    PLATAFORMA DE PAMPO-1   \n",
       "97               11.46843     30.5048    PLATAFORMA DE PAMPO-1   \n",
       "98                0.00000    140.6271    PLATAFORMA DE PAMPO-1   \n",
       "103              43.35802   1614.1463    PLATAFORMA DE PAMPO-1   \n",
       "104               0.00000     14.9880    PLATAFORMA DE PAMPO-1   \n",
       "256              81.80090   3109.9823    PLATAFORMA DE PAMPO-1   \n",
       "257               0.00000     28.8775    PLATAFORMA DE PAMPO-1   \n",
       "261              67.85881    480.8568    PLATAFORMA DE PAMPO-1   \n",
       "262               0.00000      4.4649    PLATAFORMA DE PAMPO-1   \n",
       "317              86.97260   5048.7527    PLATAFORMA DE PAMPO-1   \n",
       "318               0.00000     46.8798    PLATAFORMA DE PAMPO-1   \n",
       "355            1943.18240  12265.4192             PETROBRAS 50   \n",
       "356             486.43143   3066.3548             PETROBRAS 50   \n",
       "392              65.34691   3050.3117    PLATAFORMA DE PAMPO-1   \n",
       "393               0.00000     28.3234    PLATAFORMA DE PAMPO-1   \n",
       "440            1842.27042      4.7342             PETROBRAS 20   \n",
       "441            2252.81497      5.7862             PETROBRAS 20   \n",
       "564            2077.46427   4591.6006             PETROBRAS 48   \n",
       "565             132.47826    293.0809             PETROBRAS 48   \n",
       "603            1322.26699   1064.1663             PETROBRAS 48   \n",
       "604              84.31989     67.9255             PETROBRAS 48   \n",
       "655               0.54031      0.4016    PLATAFORMA DE PAMPO-1   \n",
       "656              22.51976     16.7340    PLATAFORMA DE PAMPO-1   \n",
       "657              36.03168     26.7744    PLATAFORMA DE PAMPO-1   \n",
       "658               0.00000    123.4299    PLATAFORMA DE PAMPO-1   \n",
       "674            3258.84421   3398.0308             PETROBRAS 43   \n",
       "675             207.81391    216.8956             PETROBRAS 43   \n",
       "772              10.49835      9.9799   PLATAFORMA DE CHERNE-1   \n",
       "773              14.96446     14.1786   PLATAFORMA DE CHERNE-1   \n",
       "\n",
       "    installation_type  production_time  \n",
       "95                UEP                2  \n",
       "96                UEP               71  \n",
       "97                UEP              113  \n",
       "98                UEP              522  \n",
       "103               UEP              613  \n",
       "104               UEP                6  \n",
       "256               UEP              565  \n",
       "257               UEP                5  \n",
       "261               UEP              328  \n",
       "262               UEP                3  \n",
       "317               UEP              637  \n",
       "318               UEP                6  \n",
       "355               UEP              517  \n",
       "356               UEP              144  \n",
       "392               UEP              613  \n",
       "393               UEP                6  \n",
       "440               UEP              299  \n",
       "441               UEP              365  \n",
       "564               UEP              310  \n",
       "565               UEP               20  \n",
       "603               UEP              304  \n",
       "604               UEP               19  \n",
       "655               UEP                2  \n",
       "656               UEP               71  \n",
       "657               UEP              114  \n",
       "658               UEP              527  \n",
       "674               UEP              661  \n",
       "675               UEP               42  \n",
       "772               UEP               69  \n",
       "773               UEP               99  "
      ]
     },
     "execution_count": 7,
     "metadata": {},
     "output_type": "execute_result"
    }
   ],
   "source": [
    "dups = data['well_name_anp'].duplicated(keep =False)\n",
    "dupss = data[dups]\n",
    "dupss"
   ]
  },
  {
   "cell_type": "code",
   "execution_count": 8,
   "id": "2c39ec8d",
   "metadata": {},
   "outputs": [
    {
     "data": {
      "text/plain": [
       "state                        object\n",
       "basin                        object\n",
       "well_name_anp                object\n",
       "well_name_operator           object\n",
       "field                        object\n",
       "operator                     object\n",
       "contract_number             float64\n",
       "period                       object\n",
       "oil                         float64\n",
       "condensate                  float64\n",
       "petroleum                   float64\n",
       "gas_associate               float64\n",
       "gas_non_associate           float64\n",
       "total_gas                   float64\n",
       "volume_gas_royalties        float64\n",
       "water                       float64\n",
       "installation_destination     object\n",
       "installation_type            object\n",
       "production_time               int64\n",
       "dtype: object"
      ]
     },
     "execution_count": 8,
     "metadata": {},
     "output_type": "execute_result"
    }
   ],
   "source": [
    "#checking the various datatypes\n",
    "data.dtypes"
   ]
  },
  {
   "cell_type": "code",
   "execution_count": 9,
   "id": "852a51e7",
   "metadata": {},
   "outputs": [],
   "source": [
    "#changing datatype of contract number and period columns\n",
    "data['period'] = data['period'].astype('datetime64')\n",
    "data['contract_number'] = data['contract_number'].astype('object')"
   ]
  },
  {
   "cell_type": "code",
   "execution_count": 10,
   "id": "15e35313",
   "metadata": {},
   "outputs": [
    {
     "data": {
      "text/plain": [
       "state                               object\n",
       "basin                               object\n",
       "well_name_anp                       object\n",
       "well_name_operator                  object\n",
       "field                               object\n",
       "operator                            object\n",
       "contract_number                     object\n",
       "period                      datetime64[ns]\n",
       "oil                                float64\n",
       "condensate                         float64\n",
       "petroleum                          float64\n",
       "gas_associate                      float64\n",
       "gas_non_associate                  float64\n",
       "total_gas                          float64\n",
       "volume_gas_royalties               float64\n",
       "water                              float64\n",
       "installation_destination            object\n",
       "installation_type                   object\n",
       "production_time                      int64\n",
       "dtype: object"
      ]
     },
     "execution_count": 10,
     "metadata": {},
     "output_type": "execute_result"
    }
   ],
   "source": [
    "#rechecking data types to see changes\n",
    "data.dtypes"
   ]
  },
  {
   "cell_type": "code",
   "execution_count": 11,
   "id": "30042b02",
   "metadata": {
    "scrolled": false
   },
   "outputs": [
    {
     "data": {
      "text/html": [
       "<div>\n",
       "<style scoped>\n",
       "    .dataframe tbody tr th:only-of-type {\n",
       "        vertical-align: middle;\n",
       "    }\n",
       "\n",
       "    .dataframe tbody tr th {\n",
       "        vertical-align: top;\n",
       "    }\n",
       "\n",
       "    .dataframe thead th {\n",
       "        text-align: right;\n",
       "    }\n",
       "</style>\n",
       "<table border=\"1\" class=\"dataframe\">\n",
       "  <thead>\n",
       "    <tr style=\"text-align: right;\">\n",
       "      <th></th>\n",
       "      <th>oil</th>\n",
       "      <th>condensate</th>\n",
       "      <th>petroleum</th>\n",
       "      <th>gas_associate</th>\n",
       "      <th>gas_non_associate</th>\n",
       "      <th>total_gas</th>\n",
       "      <th>volume_gas_royalties</th>\n",
       "      <th>water</th>\n",
       "      <th>production_time</th>\n",
       "    </tr>\n",
       "  </thead>\n",
       "  <tbody>\n",
       "    <tr>\n",
       "      <th>count</th>\n",
       "      <td>805.000000</td>\n",
       "      <td>805.000000</td>\n",
       "      <td>805.000000</td>\n",
       "      <td>805.000000</td>\n",
       "      <td>805.000000</td>\n",
       "      <td>805.000000</td>\n",
       "      <td>805.000000</td>\n",
       "      <td>805.000000</td>\n",
       "      <td>805.000000</td>\n",
       "    </tr>\n",
       "    <tr>\n",
       "      <th>mean</th>\n",
       "      <td>2641.292681</td>\n",
       "      <td>11.581130</td>\n",
       "      <td>2652.873811</td>\n",
       "      <td>68.457012</td>\n",
       "      <td>21.971361</td>\n",
       "      <td>90.428374</td>\n",
       "      <td>2019.467373</td>\n",
       "      <td>2239.195023</td>\n",
       "      <td>579.048447</td>\n",
       "    </tr>\n",
       "    <tr>\n",
       "      <th>std</th>\n",
       "      <td>4960.586277</td>\n",
       "      <td>95.366994</td>\n",
       "      <td>4955.329799</td>\n",
       "      <td>195.840813</td>\n",
       "      <td>149.514620</td>\n",
       "      <td>240.200966</td>\n",
       "      <td>5401.306447</td>\n",
       "      <td>3614.255651</td>\n",
       "      <td>222.585947</td>\n",
       "    </tr>\n",
       "    <tr>\n",
       "      <th>min</th>\n",
       "      <td>0.000000</td>\n",
       "      <td>0.000000</td>\n",
       "      <td>0.000000</td>\n",
       "      <td>0.000000</td>\n",
       "      <td>0.000000</td>\n",
       "      <td>0.000000</td>\n",
       "      <td>0.000000</td>\n",
       "      <td>0.000000</td>\n",
       "      <td>0.000000</td>\n",
       "    </tr>\n",
       "    <tr>\n",
       "      <th>25%</th>\n",
       "      <td>113.952300</td>\n",
       "      <td>0.000000</td>\n",
       "      <td>123.193300</td>\n",
       "      <td>0.965000</td>\n",
       "      <td>0.000000</td>\n",
       "      <td>1.311700</td>\n",
       "      <td>34.824820</td>\n",
       "      <td>25.665800</td>\n",
       "      <td>551.000000</td>\n",
       "    </tr>\n",
       "    <tr>\n",
       "      <th>50%</th>\n",
       "      <td>643.843600</td>\n",
       "      <td>0.000000</td>\n",
       "      <td>678.896900</td>\n",
       "      <td>8.266900</td>\n",
       "      <td>0.000000</td>\n",
       "      <td>12.277900</td>\n",
       "      <td>302.560310</td>\n",
       "      <td>733.086800</td>\n",
       "      <td>699.000000</td>\n",
       "    </tr>\n",
       "    <tr>\n",
       "      <th>75%</th>\n",
       "      <td>2863.504100</td>\n",
       "      <td>0.000000</td>\n",
       "      <td>2863.504100</td>\n",
       "      <td>44.172100</td>\n",
       "      <td>0.000000</td>\n",
       "      <td>56.029000</td>\n",
       "      <td>1440.385790</td>\n",
       "      <td>2873.265300</td>\n",
       "      <td>720.000000</td>\n",
       "    </tr>\n",
       "    <tr>\n",
       "      <th>max</th>\n",
       "      <td>35488.409400</td>\n",
       "      <td>1548.299600</td>\n",
       "      <td>35488.409400</td>\n",
       "      <td>1832.626000</td>\n",
       "      <td>1796.496400</td>\n",
       "      <td>1832.626000</td>\n",
       "      <td>53894.892100</td>\n",
       "      <td>23420.753100</td>\n",
       "      <td>720.000000</td>\n",
       "    </tr>\n",
       "  </tbody>\n",
       "</table>\n",
       "</div>"
      ],
      "text/plain": [
       "                oil   condensate     petroleum  gas_associate  \\\n",
       "count    805.000000   805.000000    805.000000     805.000000   \n",
       "mean    2641.292681    11.581130   2652.873811      68.457012   \n",
       "std     4960.586277    95.366994   4955.329799     195.840813   \n",
       "min        0.000000     0.000000      0.000000       0.000000   \n",
       "25%      113.952300     0.000000    123.193300       0.965000   \n",
       "50%      643.843600     0.000000    678.896900       8.266900   \n",
       "75%     2863.504100     0.000000   2863.504100      44.172100   \n",
       "max    35488.409400  1548.299600  35488.409400    1832.626000   \n",
       "\n",
       "       gas_non_associate    total_gas  volume_gas_royalties         water  \\\n",
       "count         805.000000   805.000000            805.000000    805.000000   \n",
       "mean           21.971361    90.428374           2019.467373   2239.195023   \n",
       "std           149.514620   240.200966           5401.306447   3614.255651   \n",
       "min             0.000000     0.000000              0.000000      0.000000   \n",
       "25%             0.000000     1.311700             34.824820     25.665800   \n",
       "50%             0.000000    12.277900            302.560310    733.086800   \n",
       "75%             0.000000    56.029000           1440.385790   2873.265300   \n",
       "max          1796.496400  1832.626000          53894.892100  23420.753100   \n",
       "\n",
       "       production_time  \n",
       "count       805.000000  \n",
       "mean        579.048447  \n",
       "std         222.585947  \n",
       "min           0.000000  \n",
       "25%         551.000000  \n",
       "50%         699.000000  \n",
       "75%         720.000000  \n",
       "max         720.000000  "
      ]
     },
     "execution_count": 11,
     "metadata": {},
     "output_type": "execute_result"
    }
   ],
   "source": [
    "#getting a numerical summary of the data\n",
    "data.describe()"
   ]
  },
  {
   "cell_type": "markdown",
   "id": "ce0fd66f",
   "metadata": {},
   "source": [
    "## Analysis_and_Insights"
   ]
  },
  {
   "cell_type": "markdown",
   "id": "76f1cba0",
   "metadata": {},
   "source": [
    "## Descriptive_Statistics"
   ]
  },
  {
   "cell_type": "code",
   "execution_count": 12,
   "id": "307f86e1",
   "metadata": {
    "scrolled": false
   },
   "outputs": [
    {
     "data": {
      "text/plain": [
       "state                         8\n",
       "basin                         9\n",
       "well_name_anp               788\n",
       "well_name_operator          788\n",
       "field                        82\n",
       "operator                      7\n",
       "contract_number               3\n",
       "period                        1\n",
       "oil                         737\n",
       "condensate                   31\n",
       "petroleum                   766\n",
       "gas_associate               748\n",
       "gas_non_associate            33\n",
       "total_gas                   779\n",
       "volume_gas_royalties        766\n",
       "water                       732\n",
       "installation_destination    111\n",
       "installation_type             2\n",
       "production_time             245\n",
       "dtype: int64"
      ]
     },
     "execution_count": 12,
     "metadata": {},
     "output_type": "execute_result"
    }
   ],
   "source": [
    "#finding the number of unique values under each column\n",
    "data.nunique()"
   ]
  },
  {
   "cell_type": "markdown",
   "id": "9b2db94c",
   "metadata": {},
   "source": [
    "**Brazil's oil industry consists of 7 operators operating 82 fields across 8 states and 9 basins. They make use of 2 installation types in the production of petroleum and natural gas. Petroleum from these 788 wells is made up of oil and condensates, and the natural gas from these wells consists of associated gas and non associated gas. Another significant product of these production processes is water**"
   ]
  },
  {
   "cell_type": "code",
   "execution_count": 13,
   "id": "11d1835f",
   "metadata": {},
   "outputs": [
    {
     "name": "stdout",
     "output_type": "stream",
     "text": [
      "The total oil produced in April 2016 was 2126240.61 bbl/day\n",
      "The total condensate produced in April 2016 was 9322.81 bbl/day\n",
      "The total Petroleum produced in April 2016 was 2135563.42 bbl/day\n"
     ]
    }
   ],
   "source": [
    "#findind total production for crude for the entire field\n",
    "totalOil = data['oil'].sum()\n",
    "print(\"The total oil produced in April 2016 was \"+\"{:.2f}\".format(totalOil)+\" bbl/day\")\n",
    "\n",
    "totalCondensate = data['condensate'].sum()\n",
    "print(\"The total condensate produced in April 2016 was \"+\"{:.2f}\".format(totalCondensate)+\" bbl/day\")\n",
    "\n",
    "totalPetroleum = data['petroleum'].sum()\n",
    "print(\"The total Petroleum produced in April 2016 was \"+\"{:.2f}\".format(totalPetroleum)+\" bbl/day\")"
   ]
  },
  {
   "cell_type": "code",
   "execution_count": 14,
   "id": "7be1f5f7",
   "metadata": {},
   "outputs": [
    {
     "name": "stdout",
     "output_type": "stream",
     "text": [
      "The total associated gas produced in April 2016 was 55107.89 mmcf/day\n",
      "The total nonassociated gas produced in April 2016 was 17686.95 mmcf/day\n",
      "The overall total gas produced in April 2016 was 72794.84 mmcf/day\n"
     ]
    }
   ],
   "source": [
    "#finding total gas produced for the entire field\n",
    "totalAssociate = data['gas_associate'].sum()\n",
    "print(\"The total associated gas produced in April 2016 was \"+\"{:.2f}\".format(totalAssociate)+\" mmcf/day\")\n",
    "\n",
    "totalNonassociate = data['gas_non_associate'].sum()\n",
    "print(\"The total nonassociated gas produced in April 2016 was \"+\"{:.2f}\".format(totalNonassociate)+\" mmcf/day\")\n",
    "\n",
    "totalGas = data['total_gas'].sum()\n",
    "print(\"The overall total gas produced in April 2016 was \"+\"{:.2f}\".format(totalGas)+\" mmcf/day\")"
   ]
  },
  {
   "cell_type": "code",
   "execution_count": 15,
   "id": "a5b42f80",
   "metadata": {},
   "outputs": [
    {
     "name": "stdout",
     "output_type": "stream",
     "text": [
      "The total water produced in April 2016 was 1802551.99 bbl/day\n"
     ]
    }
   ],
   "source": [
    "#finding the total water produced over the period\n",
    "totalWater = data['water'].sum()\n",
    "print(\"The total water produced in April 2016 was \"+\"{:.2f}\".format(totalWater)+\" bbl/day\")"
   ]
  },
  {
   "cell_type": "code",
   "execution_count": 16,
   "id": "7aee4d06",
   "metadata": {
    "scrolled": false
   },
   "outputs": [
    {
     "data": {
      "image/png": "[encoded data removed]",
      "text/plain": [
       "<Figure size 432x288 with 1 Axes>"
      ]
     },
     "metadata": {
      "needs_background": "light"
     },
     "output_type": "display_data"
    }
   ],
   "source": [
    "#visualizing production time\n",
    "sns.kdeplot(data['production_time'],)\n",
    "plt.show()"
   ]
  },
  {
   "cell_type": "code",
   "execution_count": 17,
   "id": "89230508",
   "metadata": {},
   "outputs": [
    {
     "data": {
      "text/plain": [
       "579.048447204969"
      ]
     },
     "execution_count": 17,
     "metadata": {},
     "output_type": "execute_result"
    }
   ],
   "source": [
    "#calculating average production time for the entire data\n",
    "avg_prodTime = data['production_time'].mean()\n",
    "avg_prodTime"
   ]
  },
  {
   "cell_type": "markdown",
   "id": "a7bec37f",
   "metadata": {},
   "source": [
    "**The average production time for all the wells in Brazil in April 2016 was 579.05 hours**"
   ]
  },
  {
   "cell_type": "code",
   "execution_count": 18,
   "id": "b21864f6",
   "metadata": {
    "scrolled": true
   },
   "outputs": [
    {
     "data": {
      "image/png": "[encoded data removed]",
      "text/plain": [
       "<Figure size 432x288 with 1 Axes>"
      ]
     },
     "metadata": {
      "needs_background": "light"
     },
     "output_type": "display_data"
    }
   ],
   "source": [
    "#number of wells per installation type\n",
    "sns.countplot(y=data['installation_type'])\n",
    "plt.show()"
   ]
  },
  {
   "cell_type": "code",
   "execution_count": 19,
   "id": "75af516a",
   "metadata": {},
   "outputs": [
    {
     "data": {
      "text/html": [
       "<div>\n",
       "<style scoped>\n",
       "    .dataframe tbody tr th:only-of-type {\n",
       "        vertical-align: middle;\n",
       "    }\n",
       "\n",
       "    .dataframe tbody tr th {\n",
       "        vertical-align: top;\n",
       "    }\n",
       "\n",
       "    .dataframe thead th {\n",
       "        text-align: right;\n",
       "    }\n",
       "</style>\n",
       "<table border=\"1\" class=\"dataframe\">\n",
       "  <thead>\n",
       "    <tr style=\"text-align: right;\">\n",
       "      <th></th>\n",
       "      <th>installation_type</th>\n",
       "    </tr>\n",
       "    <tr>\n",
       "      <th>installation_type</th>\n",
       "      <th></th>\n",
       "    </tr>\n",
       "  </thead>\n",
       "  <tbody>\n",
       "    <tr>\n",
       "      <th>INSTALACAO EMB/DESEMB</th>\n",
       "      <td>40</td>\n",
       "    </tr>\n",
       "    <tr>\n",
       "      <th>UEP</th>\n",
       "      <td>765</td>\n",
       "    </tr>\n",
       "  </tbody>\n",
       "</table>\n",
       "</div>"
      ],
      "text/plain": [
       "                       installation_type\n",
       "installation_type                       \n",
       "INSTALACAO EMB/DESEMB                 40\n",
       "UEP                                  765"
      ]
     },
     "execution_count": 19,
     "metadata": {},
     "output_type": "execute_result"
    }
   ],
   "source": [
    "countInstallations = data.groupby('installation_type')[['installation_type']].count()\n",
    "countInstallations"
   ]
  },
  {
   "cell_type": "markdown",
   "id": "c23a3f35",
   "metadata": {},
   "source": [
    "**The most used installation type in brazillian oil and gas wells is UEP with 14 times more installations than INSTALACAO EMB/DESEMB**"
   ]
  },
  {
   "cell_type": "markdown",
   "id": "1cc077d1",
   "metadata": {},
   "source": [
    "### Analysis_By_State\n",
    "This focuses on generating charts that give life to the data from the perspective of each state. This provides an opportunity to establish and compare relationships between variables. To do this, the following were determined: \n",
    "\n",
    "- Total produced gas by state \n",
    "- Total produced water by state \n",
    "- Average production time by state \n",
    "- Total produced petroleum by state \n",
    "- Average duration by state "
   ]
  },
  {
   "cell_type": "code",
   "execution_count": 20,
   "id": "539e6415",
   "metadata": {
    "scrolled": true
   },
   "outputs": [
    {
     "data": {
      "text/html": [
       "<div>\n",
       "<style scoped>\n",
       "    .dataframe tbody tr th:only-of-type {\n",
       "        vertical-align: middle;\n",
       "    }\n",
       "\n",
       "    .dataframe tbody tr th {\n",
       "        vertical-align: top;\n",
       "    }\n",
       "\n",
       "    .dataframe thead th {\n",
       "        text-align: right;\n",
       "    }\n",
       "</style>\n",
       "<table border=\"1\" class=\"dataframe\">\n",
       "  <thead>\n",
       "    <tr style=\"text-align: right;\">\n",
       "      <th></th>\n",
       "      <th>state</th>\n",
       "      <th>petroleum</th>\n",
       "    </tr>\n",
       "  </thead>\n",
       "  <tbody>\n",
       "    <tr>\n",
       "      <th>0</th>\n",
       "      <td>Rio de Janeiro</td>\n",
       "      <td>1.437436e+06</td>\n",
       "    </tr>\n",
       "    <tr>\n",
       "      <th>1</th>\n",
       "      <td>Espírito Santo</td>\n",
       "      <td>3.925615e+05</td>\n",
       "    </tr>\n",
       "    <tr>\n",
       "      <th>2</th>\n",
       "      <td>São Paulo</td>\n",
       "      <td>2.851564e+05</td>\n",
       "    </tr>\n",
       "    <tr>\n",
       "      <th>3</th>\n",
       "      <td>Sergipe</td>\n",
       "      <td>7.568554e+03</td>\n",
       "    </tr>\n",
       "    <tr>\n",
       "      <th>4</th>\n",
       "      <td>Rio Grande do Norte</td>\n",
       "      <td>6.546680e+03</td>\n",
       "    </tr>\n",
       "    <tr>\n",
       "      <th>5</th>\n",
       "      <td>Ceará</td>\n",
       "      <td>5.493000e+03</td>\n",
       "    </tr>\n",
       "    <tr>\n",
       "      <th>6</th>\n",
       "      <td>Bahia</td>\n",
       "      <td>6.730751e+02</td>\n",
       "    </tr>\n",
       "    <tr>\n",
       "      <th>7</th>\n",
       "      <td>Alagoas</td>\n",
       "      <td>1.281155e+02</td>\n",
       "    </tr>\n",
       "  </tbody>\n",
       "</table>\n",
       "</div>"
      ],
      "text/plain": [
       "                 state     petroleum\n",
       "0       Rio de Janeiro  1.437436e+06\n",
       "1       Espírito Santo  3.925615e+05\n",
       "2            São Paulo  2.851564e+05\n",
       "3              Sergipe  7.568554e+03\n",
       "4  Rio Grande do Norte  6.546680e+03\n",
       "5                Ceará  5.493000e+03\n",
       "6                Bahia  6.730751e+02\n",
       "7              Alagoas  1.281155e+02"
      ]
     },
     "execution_count": 20,
     "metadata": {},
     "output_type": "execute_result"
    }
   ],
   "source": [
    "#finding the total petroleum produced for each state\n",
    "petroleum_per_state = data.groupby('state')[['petroleum']].sum().sort_values('petroleum',ascending=False)\n",
    "petroleum_per_state.reset_index()"
   ]
  },
  {
   "cell_type": "code",
   "execution_count": 21,
   "id": "2e945a60",
   "metadata": {},
   "outputs": [
    {
     "data": {
      "image/png": "[encoded data removed]",
      "text/plain": [
       "<Figure size 432x288 with 1 Axes>"
      ]
     },
     "metadata": {
      "needs_background": "light"
     },
     "output_type": "display_data"
    }
   ],
   "source": [
    "#visualizing petroleum_per_state\n",
    "sns.barplot(x='petroleum',y='state',data = petroleum_per_state.reset_index()).set(title = \"Total Petroleum By State\")\n",
    "plt.show()"
   ]
  },
  {
   "cell_type": "code",
   "execution_count": 22,
   "id": "393b091c",
   "metadata": {
    "scrolled": true
   },
   "outputs": [
    {
     "data": {
      "text/html": [
       "<div>\n",
       "<style scoped>\n",
       "    .dataframe tbody tr th:only-of-type {\n",
       "        vertical-align: middle;\n",
       "    }\n",
       "\n",
       "    .dataframe tbody tr th {\n",
       "        vertical-align: top;\n",
       "    }\n",
       "\n",
       "    .dataframe thead th {\n",
       "        text-align: right;\n",
       "    }\n",
       "</style>\n",
       "<table border=\"1\" class=\"dataframe\">\n",
       "  <thead>\n",
       "    <tr style=\"text-align: right;\">\n",
       "      <th></th>\n",
       "      <th>state</th>\n",
       "      <th>total_gas</th>\n",
       "    </tr>\n",
       "  </thead>\n",
       "  <tbody>\n",
       "    <tr>\n",
       "      <th>0</th>\n",
       "      <td>Rio de Janeiro</td>\n",
       "      <td>37629.4934</td>\n",
       "    </tr>\n",
       "    <tr>\n",
       "      <th>1</th>\n",
       "      <td>São Paulo</td>\n",
       "      <td>15632.9495</td>\n",
       "    </tr>\n",
       "    <tr>\n",
       "      <th>2</th>\n",
       "      <td>Espírito Santo</td>\n",
       "      <td>10580.6073</td>\n",
       "    </tr>\n",
       "    <tr>\n",
       "      <th>3</th>\n",
       "      <td>Bahia</td>\n",
       "      <td>5971.0504</td>\n",
       "    </tr>\n",
       "    <tr>\n",
       "      <th>4</th>\n",
       "      <td>Sergipe</td>\n",
       "      <td>2437.3093</td>\n",
       "    </tr>\n",
       "    <tr>\n",
       "      <th>5</th>\n",
       "      <td>Rio Grande do Norte</td>\n",
       "      <td>256.4545</td>\n",
       "    </tr>\n",
       "    <tr>\n",
       "      <th>6</th>\n",
       "      <td>Alagoas</td>\n",
       "      <td>163.5935</td>\n",
       "    </tr>\n",
       "    <tr>\n",
       "      <th>7</th>\n",
       "      <td>Ceará</td>\n",
       "      <td>123.3831</td>\n",
       "    </tr>\n",
       "  </tbody>\n",
       "</table>\n",
       "</div>"
      ],
      "text/plain": [
       "                 state   total_gas\n",
       "0       Rio de Janeiro  37629.4934\n",
       "1            São Paulo  15632.9495\n",
       "2       Espírito Santo  10580.6073\n",
       "3                Bahia   5971.0504\n",
       "4              Sergipe   2437.3093\n",
       "5  Rio Grande do Norte    256.4545\n",
       "6              Alagoas    163.5935\n",
       "7                Ceará    123.3831"
      ]
     },
     "execution_count": 22,
     "metadata": {},
     "output_type": "execute_result"
    }
   ],
   "source": [
    "#finding the total gas produced for each state\n",
    "gas_per_state = data.groupby('state')[['total_gas']].sum().sort_values('total_gas',ascending=False)\n",
    "gas_per_state.reset_index()"
   ]
  },
  {
   "cell_type": "code",
   "execution_count": 23,
   "id": "f87927c4",
   "metadata": {},
   "outputs": [
    {
     "data": {
      "image/png": "[encoded data removed]",
      "text/plain": [
       "<Figure size 432x288 with 1 Axes>"
      ]
     },
     "metadata": {
      "needs_background": "light"
     },
     "output_type": "display_data"
    }
   ],
   "source": [
    "#visualizing gas_per_state\n",
    "sns.barplot(x='total_gas',y='state',data = gas_per_state.reset_index()).set(title = \"Total Gas By State\")\n",
    "plt.show()"
   ]
  },
  {
   "cell_type": "code",
   "execution_count": 24,
   "id": "1a66c82e",
   "metadata": {
    "scrolled": true
   },
   "outputs": [
    {
     "data": {
      "text/html": [
       "<div>\n",
       "<style scoped>\n",
       "    .dataframe tbody tr th:only-of-type {\n",
       "        vertical-align: middle;\n",
       "    }\n",
       "\n",
       "    .dataframe tbody tr th {\n",
       "        vertical-align: top;\n",
       "    }\n",
       "\n",
       "    .dataframe thead th {\n",
       "        text-align: right;\n",
       "    }\n",
       "</style>\n",
       "<table border=\"1\" class=\"dataframe\">\n",
       "  <thead>\n",
       "    <tr style=\"text-align: right;\">\n",
       "      <th></th>\n",
       "      <th>state</th>\n",
       "      <th>water</th>\n",
       "    </tr>\n",
       "  </thead>\n",
       "  <tbody>\n",
       "    <tr>\n",
       "      <th>0</th>\n",
       "      <td>Rio de Janeiro</td>\n",
       "      <td>1.351639e+06</td>\n",
       "    </tr>\n",
       "    <tr>\n",
       "      <th>1</th>\n",
       "      <td>Espírito Santo</td>\n",
       "      <td>3.800143e+05</td>\n",
       "    </tr>\n",
       "    <tr>\n",
       "      <th>2</th>\n",
       "      <td>São Paulo</td>\n",
       "      <td>3.186692e+04</td>\n",
       "    </tr>\n",
       "    <tr>\n",
       "      <th>3</th>\n",
       "      <td>Rio Grande do Norte</td>\n",
       "      <td>2.622686e+04</td>\n",
       "    </tr>\n",
       "    <tr>\n",
       "      <th>4</th>\n",
       "      <td>Ceará</td>\n",
       "      <td>1.028408e+04</td>\n",
       "    </tr>\n",
       "    <tr>\n",
       "      <th>5</th>\n",
       "      <td>Bahia</td>\n",
       "      <td>2.014500e+03</td>\n",
       "    </tr>\n",
       "    <tr>\n",
       "      <th>6</th>\n",
       "      <td>Sergipe</td>\n",
       "      <td>4.849380e+02</td>\n",
       "    </tr>\n",
       "    <tr>\n",
       "      <th>7</th>\n",
       "      <td>Alagoas</td>\n",
       "      <td>2.172290e+01</td>\n",
       "    </tr>\n",
       "  </tbody>\n",
       "</table>\n",
       "</div>"
      ],
      "text/plain": [
       "                 state         water\n",
       "0       Rio de Janeiro  1.351639e+06\n",
       "1       Espírito Santo  3.800143e+05\n",
       "2            São Paulo  3.186692e+04\n",
       "3  Rio Grande do Norte  2.622686e+04\n",
       "4                Ceará  1.028408e+04\n",
       "5                Bahia  2.014500e+03\n",
       "6              Sergipe  4.849380e+02\n",
       "7              Alagoas  2.172290e+01"
      ]
     },
     "execution_count": 24,
     "metadata": {},
     "output_type": "execute_result"
    }
   ],
   "source": [
    "#finding the total water produced for each state\n",
    "water_per_state = data.groupby('state')[['water']].sum().sort_values('water',ascending=False)\n",
    "water_per_state.reset_index()"
   ]
  },
  {
   "cell_type": "code",
   "execution_count": 25,
   "id": "1b263ec5",
   "metadata": {},
   "outputs": [
    {
     "data": {
      "image/png": "[encoded data removed]",
      "text/plain": [
       "<Figure size 432x288 with 1 Axes>"
      ]
     },
     "metadata": {
      "needs_background": "light"
     },
     "output_type": "display_data"
    }
   ],
   "source": [
    "#visualizing water_per_state\n",
    "sns.barplot(x='water',y='state',data = water_per_state.reset_index()).set(title = \"Total Water By State\")\n",
    "plt.show()"
   ]
  },
  {
   "cell_type": "code",
   "execution_count": 26,
   "id": "4394fe74",
   "metadata": {
    "scrolled": true
   },
   "outputs": [
    {
     "data": {
      "text/html": [
       "<div>\n",
       "<style scoped>\n",
       "    .dataframe tbody tr th:only-of-type {\n",
       "        vertical-align: middle;\n",
       "    }\n",
       "\n",
       "    .dataframe tbody tr th {\n",
       "        vertical-align: top;\n",
       "    }\n",
       "\n",
       "    .dataframe thead th {\n",
       "        text-align: right;\n",
       "    }\n",
       "</style>\n",
       "<table border=\"1\" class=\"dataframe\">\n",
       "  <thead>\n",
       "    <tr style=\"text-align: right;\">\n",
       "      <th></th>\n",
       "      <th>state</th>\n",
       "      <th>production_time</th>\n",
       "    </tr>\n",
       "  </thead>\n",
       "  <tbody>\n",
       "    <tr>\n",
       "      <th>0</th>\n",
       "      <td>Ceará</td>\n",
       "      <td>705.242424</td>\n",
       "    </tr>\n",
       "    <tr>\n",
       "      <th>1</th>\n",
       "      <td>Sergipe</td>\n",
       "      <td>671.571429</td>\n",
       "    </tr>\n",
       "    <tr>\n",
       "      <th>2</th>\n",
       "      <td>Rio Grande do Norte</td>\n",
       "      <td>669.152778</td>\n",
       "    </tr>\n",
       "    <tr>\n",
       "      <th>3</th>\n",
       "      <td>Alagoas</td>\n",
       "      <td>629.000000</td>\n",
       "    </tr>\n",
       "    <tr>\n",
       "      <th>4</th>\n",
       "      <td>Espírito Santo</td>\n",
       "      <td>601.085714</td>\n",
       "    </tr>\n",
       "    <tr>\n",
       "      <th>5</th>\n",
       "      <td>Bahia</td>\n",
       "      <td>571.529412</td>\n",
       "    </tr>\n",
       "    <tr>\n",
       "      <th>6</th>\n",
       "      <td>Rio de Janeiro</td>\n",
       "      <td>553.138739</td>\n",
       "    </tr>\n",
       "    <tr>\n",
       "      <th>7</th>\n",
       "      <td>São Paulo</td>\n",
       "      <td>534.727273</td>\n",
       "    </tr>\n",
       "  </tbody>\n",
       "</table>\n",
       "</div>"
      ],
      "text/plain": [
       "                 state  production_time\n",
       "0                Ceará       705.242424\n",
       "1              Sergipe       671.571429\n",
       "2  Rio Grande do Norte       669.152778\n",
       "3              Alagoas       629.000000\n",
       "4       Espírito Santo       601.085714\n",
       "5                Bahia       571.529412\n",
       "6       Rio de Janeiro       553.138739\n",
       "7            São Paulo       534.727273"
      ]
     },
     "execution_count": 26,
     "metadata": {},
     "output_type": "execute_result"
    }
   ],
   "source": [
    "#finding the average production time for each state\n",
    "prodTime_per_state = data.groupby('state')[['production_time']].mean().sort_values('production_time',ascending=False)\n",
    "prodTime_per_state.reset_index()"
   ]
  },
  {
   "cell_type": "code",
   "execution_count": 27,
   "id": "46ed9f74",
   "metadata": {
    "scrolled": true
   },
   "outputs": [
    {
     "data": {
      "image/png": "[encoded data removed]",
      "text/plain": [
       "<Figure size 432x288 with 1 Axes>"
      ]
     },
     "metadata": {
      "needs_background": "light"
     },
     "output_type": "display_data"
    }
   ],
   "source": [
    "#visualizing prodTime_per_state\n",
    "sns.barplot(x='production_time',y='state',data = prodTime_per_state.reset_index()).set(title = \"Average Production Time By State\")\n",
    "plt.show()"
   ]
  },
  {
   "cell_type": "markdown",
   "id": "c62e7c49",
   "metadata": {},
   "source": [
    "The production wells in Rio de Janeiro were the most active wells: they produced a total of 37.6K bbl/day of gas, 1.35M bbl/day of water and 1.44M bbl/day of petroleum. However, the average production time spent in this state was the second lowest at 553.14 hours. Ceara had the highest average production time with 705.24 hours, but the state managed the lowest amount of gas produced (0.1K mmcf), the third lowest amount of petroleum produced (5.4K bbl/day), and the fourth lowest water produced (10.28K bbl/day). Sao Paulo was the second highest producer of gas, and third highest producer of petroleum and water. Notably, the production of water at the wells in Sao Paolo was about a tenth of the production of water in Espirito Santo and a one-forty-third of produced water in Rio de Janeiro – Rio de Janeiro and Espirito Santo being the other top producing states in Brazil. "
   ]
  },
  {
   "cell_type": "markdown",
   "id": "4e3c3acd",
   "metadata": {},
   "source": [
    "### Analysis_By_Basin\n",
    "To further understand production in Brazil in April 2016, analysis of production was done by basins. The following were the parameters for the analyses: \n",
    "\n",
    "- Average production time by basin \n",
    "- Total Petroleum by basin \n",
    "- Total gas produced by basin \n",
    "- Total water produced by basin"
   ]
  },
  {
   "cell_type": "code",
   "execution_count": 28,
   "id": "5f6fdc3c",
   "metadata": {
    "scrolled": true
   },
   "outputs": [
    {
     "data": {
      "text/html": [
       "<div>\n",
       "<style scoped>\n",
       "    .dataframe tbody tr th:only-of-type {\n",
       "        vertical-align: middle;\n",
       "    }\n",
       "\n",
       "    .dataframe tbody tr th {\n",
       "        vertical-align: top;\n",
       "    }\n",
       "\n",
       "    .dataframe thead th {\n",
       "        text-align: right;\n",
       "    }\n",
       "</style>\n",
       "<table border=\"1\" class=\"dataframe\">\n",
       "  <thead>\n",
       "    <tr style=\"text-align: right;\">\n",
       "      <th></th>\n",
       "      <th>basin</th>\n",
       "      <th>petroleum</th>\n",
       "    </tr>\n",
       "  </thead>\n",
       "  <tbody>\n",
       "    <tr>\n",
       "      <th>0</th>\n",
       "      <td>Campos</td>\n",
       "      <td>1.468810e+06</td>\n",
       "    </tr>\n",
       "    <tr>\n",
       "      <th>1</th>\n",
       "      <td>Santos</td>\n",
       "      <td>6.234681e+05</td>\n",
       "    </tr>\n",
       "    <tr>\n",
       "      <th>2</th>\n",
       "      <td>Espírito Santo</td>\n",
       "      <td>2.287592e+04</td>\n",
       "    </tr>\n",
       "    <tr>\n",
       "      <th>3</th>\n",
       "      <td>Sergipe</td>\n",
       "      <td>7.568554e+03</td>\n",
       "    </tr>\n",
       "    <tr>\n",
       "      <th>4</th>\n",
       "      <td>Potiguar</td>\n",
       "      <td>6.546680e+03</td>\n",
       "    </tr>\n",
       "    <tr>\n",
       "      <th>5</th>\n",
       "      <td>Ceará</td>\n",
       "      <td>5.493000e+03</td>\n",
       "    </tr>\n",
       "    <tr>\n",
       "      <th>6</th>\n",
       "      <td>Camamu</td>\n",
       "      <td>4.185067e+02</td>\n",
       "    </tr>\n",
       "    <tr>\n",
       "      <th>7</th>\n",
       "      <td>Recôncavo</td>\n",
       "      <td>2.545684e+02</td>\n",
       "    </tr>\n",
       "    <tr>\n",
       "      <th>8</th>\n",
       "      <td>Alagoas</td>\n",
       "      <td>1.281155e+02</td>\n",
       "    </tr>\n",
       "  </tbody>\n",
       "</table>\n",
       "</div>"
      ],
      "text/plain": [
       "            basin     petroleum\n",
       "0          Campos  1.468810e+06\n",
       "1          Santos  6.234681e+05\n",
       "2  Espírito Santo  2.287592e+04\n",
       "3         Sergipe  7.568554e+03\n",
       "4        Potiguar  6.546680e+03\n",
       "5           Ceará  5.493000e+03\n",
       "6          Camamu  4.185067e+02\n",
       "7       Recôncavo  2.545684e+02\n",
       "8         Alagoas  1.281155e+02"
      ]
     },
     "execution_count": 28,
     "metadata": {},
     "output_type": "execute_result"
    }
   ],
   "source": [
    "#finding the total petroleum produced for each basin\n",
    "petroleum_per_basin = data.groupby('basin')[['petroleum']].sum().sort_values('petroleum',ascending=False)\n",
    "petroleum_per_basin.reset_index()"
   ]
  },
  {
   "cell_type": "code",
   "execution_count": 29,
   "id": "34b8ae21",
   "metadata": {},
   "outputs": [
    {
     "data": {
      "image/png": "[encoded data removed]",
      "text/plain": [
       "<Figure size 432x288 with 1 Axes>"
      ]
     },
     "metadata": {
      "needs_background": "light"
     },
     "output_type": "display_data"
    }
   ],
   "source": [
    "#Visualizing petroleum_per_basin\n",
    "sns.barplot(x='petroleum',y='basin',data = petroleum_per_basin.reset_index()).set(title = \"Total Petroleum By Basin\")\n",
    "plt.show()"
   ]
  },
  {
   "cell_type": "code",
   "execution_count": 30,
   "id": "e47e6796",
   "metadata": {
    "scrolled": true
   },
   "outputs": [
    {
     "data": {
      "text/html": [
       "<div>\n",
       "<style scoped>\n",
       "    .dataframe tbody tr th:only-of-type {\n",
       "        vertical-align: middle;\n",
       "    }\n",
       "\n",
       "    .dataframe tbody tr th {\n",
       "        vertical-align: top;\n",
       "    }\n",
       "\n",
       "    .dataframe thead th {\n",
       "        text-align: right;\n",
       "    }\n",
       "</style>\n",
       "<table border=\"1\" class=\"dataframe\">\n",
       "  <thead>\n",
       "    <tr style=\"text-align: right;\">\n",
       "      <th></th>\n",
       "      <th>basin</th>\n",
       "      <th>total_gas</th>\n",
       "    </tr>\n",
       "  </thead>\n",
       "  <tbody>\n",
       "    <tr>\n",
       "      <th>0</th>\n",
       "      <td>Santos</td>\n",
       "      <td>34371.0520</td>\n",
       "    </tr>\n",
       "    <tr>\n",
       "      <th>1</th>\n",
       "      <td>Campos</td>\n",
       "      <td>27169.3917</td>\n",
       "    </tr>\n",
       "    <tr>\n",
       "      <th>2</th>\n",
       "      <td>Camamu</td>\n",
       "      <td>5953.6258</td>\n",
       "    </tr>\n",
       "    <tr>\n",
       "      <th>3</th>\n",
       "      <td>Sergipe</td>\n",
       "      <td>2437.3093</td>\n",
       "    </tr>\n",
       "    <tr>\n",
       "      <th>4</th>\n",
       "      <td>Espírito Santo</td>\n",
       "      <td>2302.6065</td>\n",
       "    </tr>\n",
       "    <tr>\n",
       "      <th>5</th>\n",
       "      <td>Potiguar</td>\n",
       "      <td>256.4545</td>\n",
       "    </tr>\n",
       "    <tr>\n",
       "      <th>6</th>\n",
       "      <td>Alagoas</td>\n",
       "      <td>163.5935</td>\n",
       "    </tr>\n",
       "    <tr>\n",
       "      <th>7</th>\n",
       "      <td>Ceará</td>\n",
       "      <td>123.3831</td>\n",
       "    </tr>\n",
       "    <tr>\n",
       "      <th>8</th>\n",
       "      <td>Recôncavo</td>\n",
       "      <td>17.4246</td>\n",
       "    </tr>\n",
       "  </tbody>\n",
       "</table>\n",
       "</div>"
      ],
      "text/plain": [
       "            basin   total_gas\n",
       "0          Santos  34371.0520\n",
       "1          Campos  27169.3917\n",
       "2          Camamu   5953.6258\n",
       "3         Sergipe   2437.3093\n",
       "4  Espírito Santo   2302.6065\n",
       "5        Potiguar    256.4545\n",
       "6         Alagoas    163.5935\n",
       "7           Ceará    123.3831\n",
       "8       Recôncavo     17.4246"
      ]
     },
     "execution_count": 30,
     "metadata": {},
     "output_type": "execute_result"
    }
   ],
   "source": [
    "#finding the total gas produced for each basin\n",
    "gas_per_basin = data.groupby('basin')[['total_gas']].sum().sort_values('total_gas',ascending=False)\n",
    "gas_per_basin.reset_index()"
   ]
  },
  {
   "cell_type": "code",
   "execution_count": 31,
   "id": "ca37631d",
   "metadata": {},
   "outputs": [
    {
     "data": {
      "image/png": "[encoded data removed]",
      "text/plain": [
       "<Figure size 432x288 with 1 Axes>"
      ]
     },
     "metadata": {
      "needs_background": "light"
     },
     "output_type": "display_data"
    }
   ],
   "source": [
    "#Visualizing gas_per_basin\n",
    "sns.barplot(x='total_gas',y='basin',data = gas_per_basin.reset_index()).set(title = \"Total Gas By Basin\")\n",
    "plt.show()"
   ]
  },
  {
   "cell_type": "code",
   "execution_count": 32,
   "id": "e906e858",
   "metadata": {
    "scrolled": true
   },
   "outputs": [
    {
     "data": {
      "text/html": [
       "<div>\n",
       "<style scoped>\n",
       "    .dataframe tbody tr th:only-of-type {\n",
       "        vertical-align: middle;\n",
       "    }\n",
       "\n",
       "    .dataframe tbody tr th {\n",
       "        vertical-align: top;\n",
       "    }\n",
       "\n",
       "    .dataframe thead th {\n",
       "        text-align: right;\n",
       "    }\n",
       "</style>\n",
       "<table border=\"1\" class=\"dataframe\">\n",
       "  <thead>\n",
       "    <tr style=\"text-align: right;\">\n",
       "      <th></th>\n",
       "      <th>basin</th>\n",
       "      <th>water</th>\n",
       "    </tr>\n",
       "  </thead>\n",
       "  <tbody>\n",
       "    <tr>\n",
       "      <th>0</th>\n",
       "      <td>Campos</td>\n",
       "      <td>1.673180e+06</td>\n",
       "    </tr>\n",
       "    <tr>\n",
       "      <th>1</th>\n",
       "      <td>Espírito Santo</td>\n",
       "      <td>5.453697e+04</td>\n",
       "    </tr>\n",
       "    <tr>\n",
       "      <th>2</th>\n",
       "      <td>Santos</td>\n",
       "      <td>3.580333e+04</td>\n",
       "    </tr>\n",
       "    <tr>\n",
       "      <th>3</th>\n",
       "      <td>Potiguar</td>\n",
       "      <td>2.622686e+04</td>\n",
       "    </tr>\n",
       "    <tr>\n",
       "      <th>4</th>\n",
       "      <td>Ceará</td>\n",
       "      <td>1.028408e+04</td>\n",
       "    </tr>\n",
       "    <tr>\n",
       "      <th>5</th>\n",
       "      <td>Recôncavo</td>\n",
       "      <td>1.933221e+03</td>\n",
       "    </tr>\n",
       "    <tr>\n",
       "      <th>6</th>\n",
       "      <td>Sergipe</td>\n",
       "      <td>4.849380e+02</td>\n",
       "    </tr>\n",
       "    <tr>\n",
       "      <th>7</th>\n",
       "      <td>Camamu</td>\n",
       "      <td>8.127900e+01</td>\n",
       "    </tr>\n",
       "    <tr>\n",
       "      <th>8</th>\n",
       "      <td>Alagoas</td>\n",
       "      <td>2.172290e+01</td>\n",
       "    </tr>\n",
       "  </tbody>\n",
       "</table>\n",
       "</div>"
      ],
      "text/plain": [
       "            basin         water\n",
       "0          Campos  1.673180e+06\n",
       "1  Espírito Santo  5.453697e+04\n",
       "2          Santos  3.580333e+04\n",
       "3        Potiguar  2.622686e+04\n",
       "4           Ceará  1.028408e+04\n",
       "5       Recôncavo  1.933221e+03\n",
       "6         Sergipe  4.849380e+02\n",
       "7          Camamu  8.127900e+01\n",
       "8         Alagoas  2.172290e+01"
      ]
     },
     "execution_count": 32,
     "metadata": {},
     "output_type": "execute_result"
    }
   ],
   "source": [
    "#finding the total water produced for each basin\n",
    "water_per_basin = data.groupby('basin')[['water']].sum().sort_values('water',ascending=False)\n",
    "water_per_basin.reset_index()"
   ]
  },
  {
   "cell_type": "code",
   "execution_count": 33,
   "id": "0e4d197b",
   "metadata": {},
   "outputs": [
    {
     "data": {
      "image/png": "[encoded data removed]",
      "text/plain": [
       "<Figure size 432x288 with 1 Axes>"
      ]
     },
     "metadata": {
      "needs_background": "light"
     },
     "output_type": "display_data"
    }
   ],
   "source": [
    "#Visualizing water_per_basin\n",
    "sns.barplot(x='water',y='basin',data = water_per_basin.reset_index()).set(title = \"Water Petroleum By Basin\")\n",
    "plt.show()"
   ]
  },
  {
   "cell_type": "code",
   "execution_count": 34,
   "id": "fb0600e6",
   "metadata": {
    "scrolled": true
   },
   "outputs": [
    {
     "data": {
      "text/html": [
       "<div>\n",
       "<style scoped>\n",
       "    .dataframe tbody tr th:only-of-type {\n",
       "        vertical-align: middle;\n",
       "    }\n",
       "\n",
       "    .dataframe tbody tr th {\n",
       "        vertical-align: top;\n",
       "    }\n",
       "\n",
       "    .dataframe thead th {\n",
       "        text-align: right;\n",
       "    }\n",
       "</style>\n",
       "<table border=\"1\" class=\"dataframe\">\n",
       "  <thead>\n",
       "    <tr style=\"text-align: right;\">\n",
       "      <th></th>\n",
       "      <th>basin</th>\n",
       "      <th>production_time</th>\n",
       "    </tr>\n",
       "  </thead>\n",
       "  <tbody>\n",
       "    <tr>\n",
       "      <th>0</th>\n",
       "      <td>Recôncavo</td>\n",
       "      <td>706.545455</td>\n",
       "    </tr>\n",
       "    <tr>\n",
       "      <th>1</th>\n",
       "      <td>Espírito Santo</td>\n",
       "      <td>706.000000</td>\n",
       "    </tr>\n",
       "    <tr>\n",
       "      <th>2</th>\n",
       "      <td>Ceará</td>\n",
       "      <td>705.242424</td>\n",
       "    </tr>\n",
       "    <tr>\n",
       "      <th>3</th>\n",
       "      <td>Sergipe</td>\n",
       "      <td>671.571429</td>\n",
       "    </tr>\n",
       "    <tr>\n",
       "      <th>4</th>\n",
       "      <td>Potiguar</td>\n",
       "      <td>669.152778</td>\n",
       "    </tr>\n",
       "    <tr>\n",
       "      <th>5</th>\n",
       "      <td>Alagoas</td>\n",
       "      <td>629.000000</td>\n",
       "    </tr>\n",
       "    <tr>\n",
       "      <th>6</th>\n",
       "      <td>Campos</td>\n",
       "      <td>566.602410</td>\n",
       "    </tr>\n",
       "    <tr>\n",
       "      <th>7</th>\n",
       "      <td>Santos</td>\n",
       "      <td>434.000000</td>\n",
       "    </tr>\n",
       "    <tr>\n",
       "      <th>8</th>\n",
       "      <td>Camamu</td>\n",
       "      <td>324.000000</td>\n",
       "    </tr>\n",
       "  </tbody>\n",
       "</table>\n",
       "</div>"
      ],
      "text/plain": [
       "            basin  production_time\n",
       "0       Recôncavo       706.545455\n",
       "1  Espírito Santo       706.000000\n",
       "2           Ceará       705.242424\n",
       "3         Sergipe       671.571429\n",
       "4        Potiguar       669.152778\n",
       "5         Alagoas       629.000000\n",
       "6          Campos       566.602410\n",
       "7          Santos       434.000000\n",
       "8          Camamu       324.000000"
      ]
     },
     "execution_count": 34,
     "metadata": {},
     "output_type": "execute_result"
    }
   ],
   "source": [
    "#finding the average production time for each basin\n",
    "prodTime_per_basin = data.groupby('basin')[['production_time']].mean().sort_values('production_time',ascending=False)\n",
    "prodTime_per_basin.reset_index()"
   ]
  },
  {
   "cell_type": "code",
   "execution_count": 35,
   "id": "9bf4b8e2",
   "metadata": {
    "scrolled": true
   },
   "outputs": [
    {
     "data": {
      "image/png": "[encoded data removed]",
      "text/plain": [
       "<Figure size 432x288 with 1 Axes>"
      ]
     },
     "metadata": {
      "needs_background": "light"
     },
     "output_type": "display_data"
    }
   ],
   "source": [
    "#Visualizing prodTime_per_basin\n",
    "sns.barplot(x='production_time',y='basin',data = prodTime_per_basin.reset_index()).set(title = \"Average Production Time By Basin\")\n",
    "plt.show()"
   ]
  },
  {
   "cell_type": "markdown",
   "id": "9f1e3519",
   "metadata": {},
   "source": [
    "Campos produce the most petroleum and the most water with 1.47M bbl/day and 1.67M bbl/day respectively. Campos was also the second largest producer of gas with 27.17K mmcf/day. Santos and Espirito Santo were the next best producers of petroleum and water but were still far off Campos. However, the wells in the Santos basin produced the most water with 34.37K bbl/day. Alages was the least performing basin for petroleum and water while Reconcavo produced the least amount of gas with 17.4 mmcf/day. The production outputs were not a reflection of the production hours as Reconcavo had an average of 706.55 hours of production compared to Campos’ 566.6 hours and Santos’ 434 hours. "
   ]
  },
  {
   "cell_type": "markdown",
   "id": "299fbebf",
   "metadata": {},
   "source": [
    "### Analysis_By_Operator\n",
    "To observe trends across the operators, the following parameters were used: \n",
    "- Total produced petroleum by operator \n",
    "- Total produced gas by operator \n",
    "- Total produced water by operator \n",
    "- Average production time by operator"
   ]
  },
  {
   "cell_type": "code",
   "execution_count": 36,
   "id": "1993e995",
   "metadata": {
    "scrolled": true
   },
   "outputs": [
    {
     "data": {
      "text/html": [
       "<div>\n",
       "<style scoped>\n",
       "    .dataframe tbody tr th:only-of-type {\n",
       "        vertical-align: middle;\n",
       "    }\n",
       "\n",
       "    .dataframe tbody tr th {\n",
       "        vertical-align: top;\n",
       "    }\n",
       "\n",
       "    .dataframe thead th {\n",
       "        text-align: right;\n",
       "    }\n",
       "</style>\n",
       "<table border=\"1\" class=\"dataframe\">\n",
       "  <thead>\n",
       "    <tr style=\"text-align: right;\">\n",
       "      <th></th>\n",
       "      <th>operator</th>\n",
       "      <th>petroleum</th>\n",
       "    </tr>\n",
       "  </thead>\n",
       "  <tbody>\n",
       "    <tr>\n",
       "      <th>0</th>\n",
       "      <td>Petrobras</td>\n",
       "      <td>2.031576e+06</td>\n",
       "    </tr>\n",
       "    <tr>\n",
       "      <th>1</th>\n",
       "      <td>Shell Brasil</td>\n",
       "      <td>5.058128e+04</td>\n",
       "    </tr>\n",
       "    <tr>\n",
       "      <th>2</th>\n",
       "      <td>Statoil Brasil O&amp;G</td>\n",
       "      <td>2.223465e+04</td>\n",
       "    </tr>\n",
       "    <tr>\n",
       "      <th>3</th>\n",
       "      <td>Chevron Frade</td>\n",
       "      <td>2.205815e+04</td>\n",
       "    </tr>\n",
       "    <tr>\n",
       "      <th>4</th>\n",
       "      <td>Petro Rio</td>\n",
       "      <td>8.875044e+03</td>\n",
       "    </tr>\n",
       "    <tr>\n",
       "      <th>5</th>\n",
       "      <td>UP Petróleo</td>\n",
       "      <td>2.380148e+02</td>\n",
       "    </tr>\n",
       "    <tr>\n",
       "      <th>6</th>\n",
       "      <td>OGX</td>\n",
       "      <td>0.000000e+00</td>\n",
       "    </tr>\n",
       "  </tbody>\n",
       "</table>\n",
       "</div>"
      ],
      "text/plain": [
       "             operator     petroleum\n",
       "0           Petrobras  2.031576e+06\n",
       "1        Shell Brasil  5.058128e+04\n",
       "2  Statoil Brasil O&G  2.223465e+04\n",
       "3       Chevron Frade  2.205815e+04\n",
       "4           Petro Rio  8.875044e+03\n",
       "5         UP Petróleo  2.380148e+02\n",
       "6                 OGX  0.000000e+00"
      ]
     },
     "execution_count": 36,
     "metadata": {},
     "output_type": "execute_result"
    }
   ],
   "source": [
    "#finding the total petroleum produced for each operator\n",
    "petroleum_per_operator = data.groupby('operator')[['petroleum']].sum().sort_values('petroleum',ascending=False)\n",
    "petroleum_per_operator.reset_index()"
   ]
  },
  {
   "cell_type": "code",
   "execution_count": 37,
   "id": "79cb0764",
   "metadata": {},
   "outputs": [
    {
     "data": {
      "image/png": "[encoded data removed]",
      "text/plain": [
       "<Figure size 432x288 with 1 Axes>"
      ]
     },
     "metadata": {
      "needs_background": "light"
     },
     "output_type": "display_data"
    }
   ],
   "source": [
    "#Visualizing petroleum_per_operator\n",
    "sns.barplot(x='petroleum',y='operator',data = petroleum_per_operator.reset_index()).set(title = \"Total Petroleum By Operator\")\n",
    "plt.show()"
   ]
  },
  {
   "cell_type": "code",
   "execution_count": 38,
   "id": "940d8d1d",
   "metadata": {
    "scrolled": true
   },
   "outputs": [
    {
     "data": {
      "text/html": [
       "<div>\n",
       "<style scoped>\n",
       "    .dataframe tbody tr th:only-of-type {\n",
       "        vertical-align: middle;\n",
       "    }\n",
       "\n",
       "    .dataframe tbody tr th {\n",
       "        vertical-align: top;\n",
       "    }\n",
       "\n",
       "    .dataframe thead th {\n",
       "        text-align: right;\n",
       "    }\n",
       "</style>\n",
       "<table border=\"1\" class=\"dataframe\">\n",
       "  <thead>\n",
       "    <tr style=\"text-align: right;\">\n",
       "      <th></th>\n",
       "      <th>operator</th>\n",
       "      <th>total_gas</th>\n",
       "    </tr>\n",
       "  </thead>\n",
       "  <tbody>\n",
       "    <tr>\n",
       "      <th>0</th>\n",
       "      <td>Petrobras</td>\n",
       "      <td>71926.5567</td>\n",
       "    </tr>\n",
       "    <tr>\n",
       "      <th>1</th>\n",
       "      <td>Shell Brasil</td>\n",
       "      <td>551.2926</td>\n",
       "    </tr>\n",
       "    <tr>\n",
       "      <th>2</th>\n",
       "      <td>Chevron Frade</td>\n",
       "      <td>258.7740</td>\n",
       "    </tr>\n",
       "    <tr>\n",
       "      <th>3</th>\n",
       "      <td>Statoil Brasil O&amp;G</td>\n",
       "      <td>30.0123</td>\n",
       "    </tr>\n",
       "    <tr>\n",
       "      <th>4</th>\n",
       "      <td>Petro Rio</td>\n",
       "      <td>23.9384</td>\n",
       "    </tr>\n",
       "    <tr>\n",
       "      <th>5</th>\n",
       "      <td>UP Petróleo</td>\n",
       "      <td>4.2670</td>\n",
       "    </tr>\n",
       "    <tr>\n",
       "      <th>6</th>\n",
       "      <td>OGX</td>\n",
       "      <td>0.0000</td>\n",
       "    </tr>\n",
       "  </tbody>\n",
       "</table>\n",
       "</div>"
      ],
      "text/plain": [
       "             operator   total_gas\n",
       "0           Petrobras  71926.5567\n",
       "1        Shell Brasil    551.2926\n",
       "2       Chevron Frade    258.7740\n",
       "3  Statoil Brasil O&G     30.0123\n",
       "4           Petro Rio     23.9384\n",
       "5         UP Petróleo      4.2670\n",
       "6                 OGX      0.0000"
      ]
     },
     "execution_count": 38,
     "metadata": {},
     "output_type": "execute_result"
    }
   ],
   "source": [
    "#finding the total gas produced for each operator\n",
    "gas_per_operator = data.groupby('operator')[['total_gas']].sum().sort_values('total_gas',ascending=False)\n",
    "gas_per_operator.reset_index()"
   ]
  },
  {
   "cell_type": "code",
   "execution_count": 39,
   "id": "eea9c801",
   "metadata": {},
   "outputs": [
    {
     "data": {
      "image/png": "[encoded data removed]",
      "text/plain": [
       "<Figure size 432x288 with 1 Axes>"
      ]
     },
     "metadata": {
      "needs_background": "light"
     },
     "output_type": "display_data"
    }
   ],
   "source": [
    "#Visualizing gas_per_operator\n",
    "sns.barplot(x='total_gas',y='operator',data = gas_per_operator.reset_index()).set(title = \"Total Gas By Operator\")\n",
    "plt.show()"
   ]
  },
  {
   "cell_type": "code",
   "execution_count": 40,
   "id": "be96ae11",
   "metadata": {
    "scrolled": true
   },
   "outputs": [
    {
     "data": {
      "text/html": [
       "<div>\n",
       "<style scoped>\n",
       "    .dataframe tbody tr th:only-of-type {\n",
       "        vertical-align: middle;\n",
       "    }\n",
       "\n",
       "    .dataframe tbody tr th {\n",
       "        vertical-align: top;\n",
       "    }\n",
       "\n",
       "    .dataframe thead th {\n",
       "        text-align: right;\n",
       "    }\n",
       "</style>\n",
       "<table border=\"1\" class=\"dataframe\">\n",
       "  <thead>\n",
       "    <tr style=\"text-align: right;\">\n",
       "      <th></th>\n",
       "      <th>operator</th>\n",
       "      <th>water</th>\n",
       "    </tr>\n",
       "  </thead>\n",
       "  <tbody>\n",
       "    <tr>\n",
       "      <th>0</th>\n",
       "      <td>Petrobras</td>\n",
       "      <td>1.660489e+06</td>\n",
       "    </tr>\n",
       "    <tr>\n",
       "      <th>1</th>\n",
       "      <td>Shell Brasil</td>\n",
       "      <td>5.958698e+04</td>\n",
       "    </tr>\n",
       "    <tr>\n",
       "      <th>2</th>\n",
       "      <td>Petro Rio</td>\n",
       "      <td>4.153913e+04</td>\n",
       "    </tr>\n",
       "    <tr>\n",
       "      <th>3</th>\n",
       "      <td>Statoil Brasil O&amp;G</td>\n",
       "      <td>2.233968e+04</td>\n",
       "    </tr>\n",
       "    <tr>\n",
       "      <th>4</th>\n",
       "      <td>Chevron Frade</td>\n",
       "      <td>1.859605e+04</td>\n",
       "    </tr>\n",
       "    <tr>\n",
       "      <th>5</th>\n",
       "      <td>UP Petróleo</td>\n",
       "      <td>1.654200e+00</td>\n",
       "    </tr>\n",
       "    <tr>\n",
       "      <th>6</th>\n",
       "      <td>OGX</td>\n",
       "      <td>0.000000e+00</td>\n",
       "    </tr>\n",
       "  </tbody>\n",
       "</table>\n",
       "</div>"
      ],
      "text/plain": [
       "             operator         water\n",
       "0           Petrobras  1.660489e+06\n",
       "1        Shell Brasil  5.958698e+04\n",
       "2           Petro Rio  4.153913e+04\n",
       "3  Statoil Brasil O&G  2.233968e+04\n",
       "4       Chevron Frade  1.859605e+04\n",
       "5         UP Petróleo  1.654200e+00\n",
       "6                 OGX  0.000000e+00"
      ]
     },
     "execution_count": 40,
     "metadata": {},
     "output_type": "execute_result"
    }
   ],
   "source": [
    "#finding the total water produced for each operator\n",
    "water_per_operator = data.groupby('operator')[['water']].sum().sort_values('water',ascending=False)\n",
    "water_per_operator.reset_index()"
   ]
  },
  {
   "cell_type": "code",
   "execution_count": 41,
   "id": "27a37d92",
   "metadata": {},
   "outputs": [
    {
     "data": {
      "image/png": "[encoded data removed]",
      "text/plain": [
       "<Figure size 432x288 with 1 Axes>"
      ]
     },
     "metadata": {
      "needs_background": "light"
     },
     "output_type": "display_data"
    }
   ],
   "source": [
    "#Visualizing water_per_operator\n",
    "sns.barplot(x='water',y='operator',data = water_per_operator.reset_index()).set(title = \"Total Water By Operator\")\n",
    "plt.show()"
   ]
  },
  {
   "cell_type": "code",
   "execution_count": 42,
   "id": "b864b737",
   "metadata": {},
   "outputs": [
    {
     "data": {
      "text/html": [
       "<div>\n",
       "<style scoped>\n",
       "    .dataframe tbody tr th:only-of-type {\n",
       "        vertical-align: middle;\n",
       "    }\n",
       "\n",
       "    .dataframe tbody tr th {\n",
       "        vertical-align: top;\n",
       "    }\n",
       "\n",
       "    .dataframe thead th {\n",
       "        text-align: right;\n",
       "    }\n",
       "</style>\n",
       "<table border=\"1\" class=\"dataframe\">\n",
       "  <thead>\n",
       "    <tr style=\"text-align: right;\">\n",
       "      <th></th>\n",
       "      <th>operator</th>\n",
       "      <th>production_time</th>\n",
       "    </tr>\n",
       "  </thead>\n",
       "  <tbody>\n",
       "    <tr>\n",
       "      <th>0</th>\n",
       "      <td>Petrobras</td>\n",
       "      <td>611.028050</td>\n",
       "    </tr>\n",
       "    <tr>\n",
       "      <th>1</th>\n",
       "      <td>Chevron Frade</td>\n",
       "      <td>590.363636</td>\n",
       "    </tr>\n",
       "    <tr>\n",
       "      <th>2</th>\n",
       "      <td>Petro Rio</td>\n",
       "      <td>554.500000</td>\n",
       "    </tr>\n",
       "    <tr>\n",
       "      <th>3</th>\n",
       "      <td>UP Petróleo</td>\n",
       "      <td>333.000000</td>\n",
       "    </tr>\n",
       "    <tr>\n",
       "      <th>4</th>\n",
       "      <td>Shell Brasil</td>\n",
       "      <td>327.578947</td>\n",
       "    </tr>\n",
       "    <tr>\n",
       "      <th>5</th>\n",
       "      <td>Statoil Brasil O&amp;G</td>\n",
       "      <td>140.909091</td>\n",
       "    </tr>\n",
       "    <tr>\n",
       "      <th>6</th>\n",
       "      <td>OGX</td>\n",
       "      <td>0.000000</td>\n",
       "    </tr>\n",
       "  </tbody>\n",
       "</table>\n",
       "</div>"
      ],
      "text/plain": [
       "             operator  production_time\n",
       "0           Petrobras       611.028050\n",
       "1       Chevron Frade       590.363636\n",
       "2           Petro Rio       554.500000\n",
       "3         UP Petróleo       333.000000\n",
       "4        Shell Brasil       327.578947\n",
       "5  Statoil Brasil O&G       140.909091\n",
       "6                 OGX         0.000000"
      ]
     },
     "execution_count": 42,
     "metadata": {},
     "output_type": "execute_result"
    }
   ],
   "source": [
    "#finding the average production time for each operator\n",
    "prodTime_per_operator = data.groupby('operator')[['production_time']].mean().sort_values('production_time',ascending=False)\n",
    "prodTime_per_operator.reset_index()"
   ]
  },
  {
   "cell_type": "code",
   "execution_count": 43,
   "id": "177cf5fd",
   "metadata": {
    "scrolled": true
   },
   "outputs": [
    {
     "data": {
      "image/png": "[encoded data removed]",
      "text/plain": [
       "<Figure size 432x288 with 1 Axes>"
      ]
     },
     "metadata": {
      "needs_background": "light"
     },
     "output_type": "display_data"
    }
   ],
   "source": [
    "#Visualizing prodtime_per_operator\n",
    "sns.barplot(x='production_time',y='operator',data = prodTime_per_operator.reset_index()).set(title = \"Average Production Time By Operator\")\n",
    "plt.show()"
   ]
  },
  {
   "cell_type": "markdown",
   "id": "02c6ffb8",
   "metadata": {},
   "source": [
    "Petrobras had the highest petroleum produced, water produced, total gas produced and average production hour with 2.03M bbl/day, 1.66MM bbl/day, 71.943K mmfc/day and 611.03 hours respectively. The analysis suggests OGX had no production in April 2016. Shell Brazil was the second highest producing operator although the gap between them and Petrobras was enormous suggesting the Brazilian oil sector is dominated by Petrobras. "
   ]
  },
  {
   "cell_type": "markdown",
   "id": "06e7054d",
   "metadata": {},
   "source": [
    "### Production_Correlations\n",
    "The following analyses focus on determining if one prouction output affects the other. The correlation values are followed by graphs to show these relationships"
   ]
  },
  {
   "cell_type": "code",
   "execution_count": 44,
   "id": "256b82ae",
   "metadata": {},
   "outputs": [
    {
     "name": "stdout",
     "output_type": "stream",
     "text": [
      "Correlation Between Petroleum and production time is: 0.01612278866594921\n"
     ]
    }
   ],
   "source": [
    "#determining the correlation between petroleum produced and production_time\n",
    "prodPetrol = data['petroleum'].corr(data['production_time'])\n",
    "print(\"Correlation Between Petroleum and production time is: \" + str(prodPetrol))"
   ]
  },
  {
   "cell_type": "code",
   "execution_count": 45,
   "id": "c2c202fd",
   "metadata": {},
   "outputs": [
    {
     "data": {
      "image/png": "[encoded data removed]",
      "text/plain": [
       "<Figure size 432x288 with 1 Axes>"
      ]
     },
     "metadata": {
      "needs_background": "light"
     },
     "output_type": "display_data"
    }
   ],
   "source": [
    "#plotting prodPetrol correlation\n",
    "sns.regplot(x=data['petroleum'], y=data['production_time']).set(title=\"Correlation Between Petroleum and Production Time\")\n",
    "plt.show()"
   ]
  },
  {
   "cell_type": "code",
   "execution_count": 46,
   "id": "2d1a1762",
   "metadata": {},
   "outputs": [
    {
     "name": "stdout",
     "output_type": "stream",
     "text": [
      "Correlation between petroleum and total gas produced is: 0.6634970812435302\n"
     ]
    }
   ],
   "source": [
    "#determining the correlation between petroleum produced and total gas produced\n",
    "petrolGas = data['petroleum'].corr(data['total_gas'])\n",
    "print(\"Correlation between petroleum and total gas produced is: \" + str(petrolGas))"
   ]
  },
  {
   "cell_type": "code",
   "execution_count": 47,
   "id": "5fa2eb94",
   "metadata": {},
   "outputs": [
    {
     "data": {
      "image/png": "[encoded data removed]",
      "text/plain": [
       "<Figure size 432x288 with 1 Axes>"
      ]
     },
     "metadata": {
      "needs_background": "light"
     },
     "output_type": "display_data"
    }
   ],
   "source": [
    "#plotting petrolGas correlation\n",
    "sns.regplot(x=data['petroleum'], y=data['total_gas']).set(title=\"Correlation Between Petroleum and Gas Produced\")\n",
    "plt.show()"
   ]
  },
  {
   "cell_type": "code",
   "execution_count": 48,
   "id": "6697adec",
   "metadata": {},
   "outputs": [
    {
     "name": "stdout",
     "output_type": "stream",
     "text": [
      "Correlation between petroleum and water produced is: 0.0920549016683173\n"
     ]
    }
   ],
   "source": [
    "#determining the correlation between petroleum produced and water produced\n",
    "petrolWater = data['petroleum'].corr(data['water'])\n",
    "print(\"Correlation between petroleum and water produced is: \" + str(petrolWater))"
   ]
  },
  {
   "cell_type": "code",
   "execution_count": 49,
   "id": "9e4455d4",
   "metadata": {},
   "outputs": [
    {
     "data": {
      "image/png": "[encoded data removed]",
      "text/plain": [
       "<Figure size 432x288 with 1 Axes>"
      ]
     },
     "metadata": {
      "needs_background": "light"
     },
     "output_type": "display_data"
    }
   ],
   "source": [
    "#plotting petrolWater correlation\n",
    "sns.regplot(x=data['petroleum'], y=data['water']).set(title=\"Correlation Between Petroleum and Water Produced\")\n",
    "plt.show()"
   ]
  },
  {
   "cell_type": "markdown",
   "id": "f432dd25",
   "metadata": {},
   "source": [
    "## Recommendations\n",
    "Review production hours allocated for the various states and basins. Some wells with low volumes of produced petroleum and gas have high average production hours; this is not an efficient use of resources. \n",
    "\n",
    "Wells in Sao Paolo should be the point of focus when trying to minimize the production of water while maintaining good production of petroleum and gas."
   ]
  },
  {
   "cell_type": "markdown",
   "id": "bebe8422",
   "metadata": {},
   "source": [
    "## Conclusion\n",
    "The Brazilian oil sector is dominated by Petrobras across multiple states and basins. Identifying ratio of produced petroleum to produced water will help understand which wells to cut back on when trying to reduce production of water.\n",
    "\n",
    "OGX operates with no petroleum products suggesting this operator is now setting up in Brazil.\n",
    "\n"
   ]
  },
  {
   "cell_type": "markdown",
   "id": "f0d573d1",
   "metadata": {},
   "source": [
    "[Back To Top](#Content)"
   ]
  }
 ],
 "metadata": {
  "kernelspec": {
   "display_name": "Python 3 (ipykernel)",
   "language": "python",
   "name": "python3"
  },
  "language_info": {
   "codemirror_mode": {
    "name": "ipython",
    "version": 3
   },
   "file_extension": ".py",
   "mimetype": "text/x-python",
   "name": "python",
   "nbconvert_exporter": "python",
   "pygments_lexer": "ipython3",
   "version": "3.9.7"
  }
 },
 "nbformat": 4,
 "nbformat_minor": 5
}
